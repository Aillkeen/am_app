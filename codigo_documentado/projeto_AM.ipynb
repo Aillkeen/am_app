{
 "cells": [
  {
   "cell_type": "markdown",
   "metadata": {},
   "source": [
    "# 1. Setup"
   ]
  },
  {
   "cell_type": "markdown",
   "metadata": {},
   "source": [
    "## 1.1 Install Dependencies"
   ]
  },
  {
   "cell_type": "code",
   "execution_count": 1,
   "metadata": {},
   "outputs": [
    {
     "name": "stdout",
     "output_type": "stream",
     "text": [
      "Collecting tensorflow==2.4.1\n",
      "  Downloading tensorflow-2.4.1-cp38-cp38-manylinux2010_x86_64.whl (394.4 MB)\n",
      "\u001b[K     |████████████████████████████████| 394.4 MB 12 kB/s s eta 0:00:01     |████████▌                       | 105.3 MB 20.6 MB/s eta 0:00:15     |██████████████████████████████▍ | 374.6 MB 48.5 MB/s eta 0:00:01\n",
      "\u001b[?25hCollecting tensorflow-gpu==2.4.1\n",
      "  Downloading tensorflow_gpu-2.4.1-cp38-cp38-manylinux2010_x86_64.whl (394.4 MB)\n",
      "\u001b[K     |████████████████████████████████| 394.4 MB 12 kB/s s eta 0:00:011\n",
      "\u001b[?25hCollecting opencv-python\n",
      "  Downloading opencv_python-4.6.0.66-cp36-abi3-manylinux_2_17_x86_64.manylinux2014_x86_64.whl (60.9 MB)\n",
      "\u001b[K     |████████████████████████████████| 60.9 MB 29.7 MB/s eta 0:00:01\n",
      "\u001b[?25hRequirement already satisfied: matplotlib in /home/aillkeen/anaconda3/lib/python3.8/site-packages (3.3.4)\n",
      "Collecting flatbuffers~=1.12.0\n",
      "  Downloading flatbuffers-1.12-py2.py3-none-any.whl (15 kB)\n",
      "Collecting absl-py~=0.10\n",
      "  Downloading absl_py-0.15.0-py3-none-any.whl (132 kB)\n",
      "\u001b[K     |████████████████████████████████| 132 kB 68.0 MB/s eta 0:00:01\n",
      "\u001b[?25hCollecting termcolor~=1.1.0\n",
      "  Downloading termcolor-1.1.0.tar.gz (3.9 kB)\n",
      "Collecting grpcio~=1.32.0\n",
      "  Downloading grpcio-1.32.0-cp38-cp38-manylinux2014_x86_64.whl (3.8 MB)\n",
      "\u001b[K     |████████████████████████████████| 3.8 MB 42.5 MB/s eta 0:00:01\n",
      "\u001b[?25hCollecting opt-einsum~=3.3.0\n",
      "  Downloading opt_einsum-3.3.0-py3-none-any.whl (65 kB)\n",
      "\u001b[K     |████████████████████████████████| 65 kB 13.2 MB/s eta 0:00:01\n",
      "\u001b[?25hCollecting astunparse~=1.6.3\n",
      "  Downloading astunparse-1.6.3-py2.py3-none-any.whl (12 kB)\n",
      "Collecting tensorboard~=2.4\n",
      "  Downloading tensorboard-2.11.0-py3-none-any.whl (6.0 MB)\n",
      "\u001b[K     |████████████████████████████████| 6.0 MB 70.5 MB/s eta 0:00:01\n",
      "\u001b[?25hRequirement already satisfied: h5py~=2.10.0 in /home/aillkeen/anaconda3/lib/python3.8/site-packages (from tensorflow==2.4.1) (2.10.0)\n",
      "Collecting gast==0.3.3\n",
      "  Downloading gast-0.3.3-py2.py3-none-any.whl (9.7 kB)\n",
      "Collecting google-pasta~=0.2\n",
      "  Downloading google_pasta-0.2.0-py3-none-any.whl (57 kB)\n",
      "\u001b[K     |████████████████████████████████| 57 kB 19.4 MB/s eta 0:00:01\n",
      "\u001b[?25hCollecting protobuf>=3.9.2\n",
      "  Downloading protobuf-4.21.9-cp37-abi3-manylinux2014_x86_64.whl (408 kB)\n",
      "\u001b[K     |████████████████████████████████| 408 kB 80.9 MB/s eta 0:00:01\n",
      "\u001b[?25hCollecting keras-preprocessing~=1.1.2\n",
      "  Downloading Keras_Preprocessing-1.1.2-py2.py3-none-any.whl (42 kB)\n",
      "\u001b[K     |████████████████████████████████| 42 kB 5.3 MB/s  eta 0:00:01\n",
      "\u001b[?25hRequirement already satisfied: typing-extensions~=3.7.4 in /home/aillkeen/anaconda3/lib/python3.8/site-packages (from tensorflow==2.4.1) (3.7.4.3)\n",
      "Requirement already satisfied: six~=1.15.0 in /home/aillkeen/anaconda3/lib/python3.8/site-packages (from tensorflow==2.4.1) (1.15.0)\n",
      "Requirement already satisfied: wrapt~=1.12.1 in /home/aillkeen/anaconda3/lib/python3.8/site-packages (from tensorflow==2.4.1) (1.12.1)\n",
      "Collecting numpy~=1.19.2\n",
      "  Downloading numpy-1.19.5-cp38-cp38-manylinux2010_x86_64.whl (14.9 MB)\n",
      "\u001b[K     |████████████████████████████████| 14.9 MB 55.1 MB/s eta 0:00:01\n",
      "\u001b[?25hCollecting tensorflow-estimator<2.5.0,>=2.4.0\n",
      "  Downloading tensorflow_estimator-2.4.0-py2.py3-none-any.whl (462 kB)\n",
      "\u001b[K     |████████████████████████████████| 462 kB 63.6 MB/s eta 0:00:01\n",
      "\u001b[?25hRequirement already satisfied: wheel~=0.35 in /home/aillkeen/anaconda3/lib/python3.8/site-packages (from tensorflow==2.4.1) (0.36.2)\n",
      "Collecting markdown>=2.6.8\n",
      "  Downloading Markdown-3.4.1-py3-none-any.whl (93 kB)\n",
      "\u001b[K     |████████████████████████████████| 93 kB 5.6 MB/s  eta 0:00:01\n",
      "\u001b[?25hCollecting tensorboard-data-server<0.7.0,>=0.6.0\n",
      "  Downloading tensorboard_data_server-0.6.1-py3-none-manylinux2010_x86_64.whl (4.9 MB)\n",
      "\u001b[K     |████████████████████████████████| 4.9 MB 75.3 MB/s eta 0:00:01\n",
      "\u001b[?25hRequirement already satisfied: werkzeug>=1.0.1 in /home/aillkeen/anaconda3/lib/python3.8/site-packages (from tensorboard~=2.4->tensorflow==2.4.1) (1.0.1)\n",
      "Requirement already satisfied: setuptools>=41.0.0 in /home/aillkeen/anaconda3/lib/python3.8/site-packages (from tensorboard~=2.4->tensorflow==2.4.1) (52.0.0.post20210125)\n",
      "Collecting google-auth-oauthlib<0.5,>=0.4.1\n",
      "  Downloading google_auth_oauthlib-0.4.6-py2.py3-none-any.whl (18 kB)\n",
      "Requirement already satisfied: requests<3,>=2.21.0 in /home/aillkeen/anaconda3/lib/python3.8/site-packages (from tensorboard~=2.4->tensorflow==2.4.1) (2.25.1)\n",
      "Collecting tensorboard-plugin-wit>=1.6.0\n",
      "  Downloading tensorboard_plugin_wit-1.8.1-py3-none-any.whl (781 kB)\n",
      "\u001b[K     |████████████████████████████████| 781 kB 81.2 MB/s eta 0:00:01\n",
      "\u001b[?25hCollecting protobuf>=3.9.2\n",
      "  Downloading protobuf-3.20.3-cp38-cp38-manylinux_2_5_x86_64.manylinux1_x86_64.whl (1.0 MB)\n",
      "\u001b[K     |████████████████████████████████| 1.0 MB 73.2 MB/s eta 0:00:01\n",
      "\u001b[?25hCollecting google-auth<3,>=1.6.3\n",
      "  Downloading google_auth-2.14.1-py2.py3-none-any.whl (175 kB)\n",
      "\u001b[K     |████████████████████████████████| 175 kB 60.8 MB/s eta 0:00:01\n",
      "\u001b[?25hCollecting rsa<5,>=3.1.4\n",
      "  Downloading rsa-4.9-py3-none-any.whl (34 kB)\n",
      "Collecting pyasn1-modules>=0.2.1\n",
      "  Downloading pyasn1_modules-0.2.8-py2.py3-none-any.whl (155 kB)\n",
      "\u001b[K     |████████████████████████████████| 155 kB 74.4 MB/s eta 0:00:01\n",
      "\u001b[?25hCollecting cachetools<6.0,>=2.0.0\n",
      "  Downloading cachetools-5.2.0-py3-none-any.whl (9.3 kB)\n",
      "Collecting requests-oauthlib>=0.7.0\n",
      "  Downloading requests_oauthlib-1.3.1-py2.py3-none-any.whl (23 kB)\n",
      "Collecting importlib-metadata>=4.4\n",
      "  Downloading importlib_metadata-5.0.0-py3-none-any.whl (21 kB)\n",
      "Requirement already satisfied: zipp>=0.5 in /home/aillkeen/anaconda3/lib/python3.8/site-packages (from importlib-metadata>=4.4->markdown>=2.6.8->tensorboard~=2.4->tensorflow==2.4.1) (3.4.1)\n",
      "Collecting pyasn1<0.5.0,>=0.4.6\n",
      "  Downloading pyasn1-0.4.8-py2.py3-none-any.whl (77 kB)\n",
      "\u001b[K     |████████████████████████████████| 77 kB 17.9 MB/s eta 0:00:01\n",
      "\u001b[?25hRequirement already satisfied: urllib3<1.27,>=1.21.1 in /home/aillkeen/anaconda3/lib/python3.8/site-packages (from requests<3,>=2.21.0->tensorboard~=2.4->tensorflow==2.4.1) (1.26.4)\n",
      "Requirement already satisfied: idna<3,>=2.5 in /home/aillkeen/anaconda3/lib/python3.8/site-packages (from requests<3,>=2.21.0->tensorboard~=2.4->tensorflow==2.4.1) (2.10)\n",
      "Requirement already satisfied: certifi>=2017.4.17 in /home/aillkeen/anaconda3/lib/python3.8/site-packages (from requests<3,>=2.21.0->tensorboard~=2.4->tensorflow==2.4.1) (2020.12.5)\n",
      "Requirement already satisfied: chardet<5,>=3.0.2 in /home/aillkeen/anaconda3/lib/python3.8/site-packages (from requests<3,>=2.21.0->tensorboard~=2.4->tensorflow==2.4.1) (4.0.0)\n",
      "Collecting oauthlib>=3.0.0\n",
      "  Downloading oauthlib-3.2.2-py3-none-any.whl (151 kB)\n",
      "\u001b[K     |████████████████████████████████| 151 kB 74.4 MB/s eta 0:00:01\n",
      "\u001b[?25hRequirement already satisfied: pyparsing!=2.0.4,!=2.1.2,!=2.1.6,>=2.0.3 in /home/aillkeen/anaconda3/lib/python3.8/site-packages (from matplotlib) (2.4.7)\n",
      "Requirement already satisfied: pillow>=6.2.0 in /home/aillkeen/anaconda3/lib/python3.8/site-packages (from matplotlib) (8.2.0)\n",
      "Requirement already satisfied: cycler>=0.10 in /home/aillkeen/anaconda3/lib/python3.8/site-packages (from matplotlib) (0.10.0)\n",
      "Requirement already satisfied: python-dateutil>=2.1 in /home/aillkeen/anaconda3/lib/python3.8/site-packages (from matplotlib) (2.8.1)\n",
      "Requirement already satisfied: kiwisolver>=1.0.1 in /home/aillkeen/anaconda3/lib/python3.8/site-packages (from matplotlib) (1.3.1)\n",
      "Building wheels for collected packages: termcolor\n",
      "  Building wheel for termcolor (setup.py) ... \u001b[?25ldone\n",
      "\u001b[?25h  Created wheel for termcolor: filename=termcolor-1.1.0-py3-none-any.whl size=4829 sha256=1232263dcd580e9e9df3b348ae495094e3deeb86a4a0b09a6c16b93915e18c5d\n",
      "  Stored in directory: /home/aillkeen/.cache/pip/wheels/a0/16/9c/5473df82468f958445479c59e784896fa24f4a5fc024b0f501\n",
      "Successfully built termcolor\n",
      "Installing collected packages: pyasn1, rsa, pyasn1-modules, oauthlib, cachetools, requests-oauthlib, importlib-metadata, google-auth, tensorboard-plugin-wit, tensorboard-data-server, protobuf, numpy, markdown, grpcio, google-auth-oauthlib, absl-py, termcolor, tensorflow-estimator, tensorboard, opt-einsum, keras-preprocessing, google-pasta, gast, flatbuffers, astunparse, tensorflow-gpu, tensorflow, opencv-python\n"
     ]
    },
    {
     "name": "stdout",
     "output_type": "stream",
     "text": [
      "  Attempting uninstall: importlib-metadata\n",
      "    Found existing installation: importlib-metadata 3.10.0\n",
      "    Uninstalling importlib-metadata-3.10.0:\n",
      "      Successfully uninstalled importlib-metadata-3.10.0\n",
      "  Attempting uninstall: numpy\n",
      "    Found existing installation: numpy 1.20.1\n",
      "    Uninstalling numpy-1.20.1:\n",
      "      Successfully uninstalled numpy-1.20.1\n",
      "Successfully installed absl-py-0.15.0 astunparse-1.6.3 cachetools-5.2.0 flatbuffers-1.12 gast-0.3.3 google-auth-2.14.1 google-auth-oauthlib-0.4.6 google-pasta-0.2.0 grpcio-1.32.0 importlib-metadata-5.0.0 keras-preprocessing-1.1.2 markdown-3.4.1 numpy-1.19.5 oauthlib-3.2.2 opencv-python-4.6.0.66 opt-einsum-3.3.0 protobuf-3.20.3 pyasn1-0.4.8 pyasn1-modules-0.2.8 requests-oauthlib-1.3.1 rsa-4.9 tensorboard-2.11.0 tensorboard-data-server-0.6.1 tensorboard-plugin-wit-1.8.1 tensorflow-2.4.1 tensorflow-estimator-2.4.0 tensorflow-gpu-2.4.1 termcolor-1.1.0\n"
     ]
    }
   ],
   "source": [
    "!pip install tensorflow==2.4.1 tensorflow-gpu==2.4.1 opencv-python matplotlib"
   ]
  },
  {
   "cell_type": "markdown",
   "metadata": {},
   "source": [
    "# 1.2 Import Dependencies"
   ]
  },
  {
   "cell_type": "markdown",
   "metadata": {},
   "source": [
    "Vamos importar as dependências principais e as do tensorflow para criarmos o modelo."
   ]
  },
  {
   "cell_type": "code",
   "execution_count": 1,
   "metadata": {},
   "outputs": [],
   "source": [
    "# Import standard dependencies\n",
    "import cv2\n",
    "import os\n",
    "import random\n",
    "import numpy as np\n",
    "from matplotlib import pyplot as plt\n",
    "import shutil"
   ]
  },
  {
   "cell_type": "code",
   "execution_count": 2,
   "metadata": {},
   "outputs": [],
   "source": [
    "# Import tensorflow dependencies - Functional API\n",
    "from tensorflow.keras.models import Model\n",
    "from tensorflow.keras.layers import Layer, Conv2D, Dense, MaxPooling2D, Input, Flatten\n",
    "import tensorflow as tf"
   ]
  },
  {
   "cell_type": "markdown",
   "metadata": {},
   "source": [
    "## 1.3 Set GPU Growth"
   ]
  },
  {
   "cell_type": "markdown",
   "metadata": {},
   "source": [
    "Vamos rodar esse código para evitar problemas de Out Of Memory à medida que for sendo utilizada a GPU."
   ]
  },
  {
   "cell_type": "code",
   "execution_count": 3,
   "metadata": {},
   "outputs": [],
   "source": [
    "# Avoid OOM errors by setting GPU Memory Consumption Growth\n",
    "gpus = tf.config.experimental.list_physical_devices('GPU')\n",
    "for gpu in gpus: \n",
    "    tf.config.experimental.set_memory_growth(gpu, True)"
   ]
  },
  {
   "cell_type": "markdown",
   "metadata": {},
   "source": [
    "## 1.4 Create Folder Structures"
   ]
  },
  {
   "cell_type": "markdown",
   "metadata": {},
   "source": [
    "Criaremos três diretórios: o diretório positivo, negativo e o anchor. Neles serão colocadas fotos.\n",
    "Na negativa serão colocadas fotos não relacionadas a pessoa em si.\n",
    "Na anchor e na positiva serão colocadas fotos relacionadas a pessoa em si."
   ]
  },
  {
   "cell_type": "code",
   "execution_count": 4,
   "metadata": {},
   "outputs": [],
   "source": [
    "# Setup paths\n",
    "POS_PATH = os.path.join('data', 'positive')\n",
    "NEG_PATH = os.path.join('data', 'negative')\n",
    "ANC_PATH = os.path.join('data', 'anchor')"
   ]
  },
  {
   "cell_type": "code",
   "execution_count": 5,
   "metadata": {},
   "outputs": [],
   "source": [
    "# Make the directories\n",
    "if os.path.exists(POS_PATH):\n",
    "    shutil.rmtree(POS_PATH)\n",
    "if os.path.exists(NEG_PATH):\n",
    "    shutil.rmtree(NEG_PATH)\n",
    "if os.path.exists(ANC_PATH):\n",
    "    shutil.rmtree(ANC_PATH)\n",
    "\n",
    "os.makedirs(POS_PATH)\n",
    "os.makedirs(NEG_PATH)\n",
    "os.makedirs(ANC_PATH)"
   ]
  },
  {
   "cell_type": "markdown",
   "metadata": {},
   "source": [
    "# 2. Collect Positives, Negatives and Anchors"
   ]
  },
  {
   "cell_type": "markdown",
   "metadata": {},
   "source": [
    "Nessa seção iremos coletar as imagens positivas, negativas e anchor."
   ]
  },
  {
   "cell_type": "markdown",
   "metadata": {},
   "source": [
    "## 2.1 Untar Labelled Faces in the Wild Dataset"
   ]
  },
  {
   "cell_type": "markdown",
   "metadata": {},
   "source": [
    "Para as imagens negativas vamos utilizar imagens baixadas do site mencionado abaixo. Essas imagens serão baixadas em um arquivo zip. Em seguida será descompactada do arquivo zip e colocadas no diretório negativo que criamos anteriormente."
   ]
  },
  {
   "cell_type": "code",
   "execution_count": null,
   "metadata": {},
   "outputs": [],
   "source": [
    "# http://vis-www.cs.umass.edu/lfw/"
   ]
  },
  {
   "cell_type": "markdown",
   "metadata": {},
   "source": [
    "O código abaixo baixa as imagens."
   ]
  },
  {
   "cell_type": "code",
   "execution_count": 6,
   "metadata": {},
   "outputs": [
    {
     "name": "stdout",
     "output_type": "stream",
     "text": [
      "--2022-11-30 14:26:20--  http://vis-www.cs.umass.edu/lfw/lfw.tgz\n",
      "Resolvendo vis-www.cs.umass.edu (vis-www.cs.umass.edu)... 128.119.244.95\n",
      "Conectando-se a vis-www.cs.umass.edu (vis-www.cs.umass.edu)|128.119.244.95|:80... conectado.\n",
      "A requisição HTTP foi enviada, aguardando resposta... 200 OK\n",
      "Tamanho: 180566744 (172M) [application/x-gzip]\n",
      "Salvando em: “lfw.tgz.3”\n",
      "\n",
      "lfw.tgz.3           100%[===================>] 172,20M  18,8MB/s    em 10s     \n",
      "\n",
      "2022-11-30 14:26:32 (16,5 MB/s) - “lfw.tgz.3” salvo [180566744/180566744]\n",
      "\n"
     ]
    }
   ],
   "source": [
    "!wget http://vis-www.cs.umass.edu/lfw/lfw.tgz"
   ]
  },
  {
   "cell_type": "markdown",
   "metadata": {},
   "source": [
    "O código abaixo faz a descompactação dos dados do arquivo 'lfw'."
   ]
  },
  {
   "cell_type": "code",
   "execution_count": 6,
   "metadata": {},
   "outputs": [],
   "source": [
    "# Uncompress Tar GZ Labelled Faces in the Wild Dataset\n",
    "!tar -xf lfw.tgz"
   ]
  },
  {
   "cell_type": "code",
   "execution_count": 7,
   "metadata": {},
   "outputs": [
    {
     "data": {
      "text/plain": [
       "'/home/aillkeen/Mestrado/AM/projeto'"
      ]
     },
     "execution_count": 7,
     "metadata": {},
     "output_type": "execute_result"
    }
   ],
   "source": [
    "pwd"
   ]
  },
  {
   "cell_type": "markdown",
   "metadata": {},
   "source": [
    "Agora movemos as imagens para o diretório negativo."
   ]
  },
  {
   "cell_type": "code",
   "execution_count": 8,
   "metadata": {},
   "outputs": [],
   "source": [
    "# Move LFW Images to the following repository data/negative\n",
    "for directory in os.listdir('lfw'):\n",
    "    for file in os.listdir(os.path.join('/home/aillkeen/Mestrado/AM/projeto/lfw', directory)):\n",
    "        EX_PATH = os.path.join('/home/aillkeen/Mestrado/AM/projeto/lfw', directory, file)\n",
    "        NEW_PATH = os.path.join(NEG_PATH, file)\n",
    "        os.replace(EX_PATH, NEW_PATH)"
   ]
  },
  {
   "cell_type": "markdown",
   "metadata": {},
   "source": [
    "## 2.2 Collect Positive and Anchor Classes"
   ]
  },
  {
   "cell_type": "markdown",
   "metadata": {},
   "source": [
    "Agora vamos coletar as imagens positivas e negativas. Para isso vamos utilizar a webcam."
   ]
  },
  {
   "cell_type": "markdown",
   "metadata": {},
   "source": [
    "Vamos utilizar o `uuid` para gerar os nomes das imagens que serão armazenadas nos diretórios."
   ]
  },
  {
   "cell_type": "code",
   "execution_count": 9,
   "metadata": {},
   "outputs": [],
   "source": [
    "# Import uuid library to generate unique image names\n",
    "import uuid"
   ]
  },
  {
   "cell_type": "code",
   "execution_count": 10,
   "metadata": {},
   "outputs": [
    {
     "data": {
      "text/plain": [
       "'data/anchor/ca2b5300-70d9-11ed-8403-298e54280f9a.jpg'"
      ]
     },
     "execution_count": 10,
     "metadata": {},
     "output_type": "execute_result"
    }
   ],
   "source": [
    "os.path.join(ANC_PATH, '{}.jpg'.format(uuid.uuid1()))"
   ]
  },
  {
   "cell_type": "markdown",
   "metadata": {},
   "source": [
    "O código abaixo utiliza o `OpenCV` para capturar a imagem da webcam do dispositivo."
   ]
  },
  {
   "cell_type": "code",
   "execution_count": 13,
   "metadata": {},
   "outputs": [],
   "source": [
    "# Essa parte faz a conexão com o dispositivo, no nosso caso o dispositivo é o de valor zero,\n",
    "# porém poderá mudar de máquina para máquina.\n",
    "cap = cv2.VideoCapture(0)\n",
    "while cap.isOpened(): \n",
    "    ret, frame = cap.read()\n",
    "   \n",
    "    # Aqui nós vamos reduzir a imagem para 250x250px\n",
    "    frame = frame[120:120+250,200:200+250, :]\n",
    "    \n",
    "    # Esse trecho captura a tecla 'a' pressionada no teclado\n",
    "    # Ao pressionar a letra 'a', a imagem exibida na webcam será enviada para o diretório 'ANCHOR'\n",
    "    # que criamos anteriormente.\n",
    "    if cv2.waitKey(33) == ord('a'):\n",
    "        # Create the unique file path \n",
    "        imgname = os.path.join(ANC_PATH, '{}.jpg'.format(uuid.uuid1()))\n",
    "        # Write out anchor image\n",
    "        cv2.imwrite(imgname, frame)\n",
    "    \n",
    "    # Esse trecho captura a tecla 'p' pressionada no teclado\n",
    "    # Ao pressionar a letra 'p', a imagem exibida na webcam será enviada para o diretório 'positivo'\n",
    "    # que criamos anteriormente.\n",
    "    if cv2.waitKey(33) == ord('p'):\n",
    "        # Create the unique file path \n",
    "        imgname = os.path.join(POS_PATH, '{}.jpg'.format(uuid.uuid1()))\n",
    "        # Write out positive image\n",
    "        if not cv2.imwrite(imgname, frame):\n",
    "            raise Exception(\"Could not write image\")\n",
    "    \n",
    "    # Show image back to screen\n",
    "    cv2.imshow('Image Collection', frame)\n",
    "    \n",
    "    # Ao pressionar a tecla 'q' o código será encerrado.\n",
    "    if cv2.waitKey(33) == ord('q'):\n",
    "        break\n",
    "        \n",
    "# Release the webcam\n",
    "cap.release()\n",
    "# Close the image show frame\n",
    "cv2.destroyAllWindows()"
   ]
  },
  {
   "cell_type": "markdown",
   "metadata": {},
   "source": [
    "Temos aqui uma das imagens capturadas pela câmera."
   ]
  },
  {
   "cell_type": "code",
   "execution_count": 14,
   "metadata": {},
   "outputs": [
    {
     "data": {
      "text/plain": [
       "<matplotlib.image.AxesImage at 0x7f579ca93f10>"
      ]
     },
     "execution_count": 14,
     "metadata": {},
     "output_type": "execute_result"
    },
    {
     "data": {
      "image/png": "[encoded data removed]",
      "text/plain": [
       "<Figure size 432x288 with 1 Axes>"
      ]
     },
     "metadata": {
      "needs_background": "light"
     },
     "output_type": "display_data"
    }
   ],
   "source": [
    "plt.imshow(frame[0:120+250,0:200+250, :])"
   ]
  },
  {
   "cell_type": "markdown",
   "metadata": {},
   "source": [
    "# 2.x NEW - Data Augmentation"
   ]
  },
  {
   "cell_type": "markdown",
   "metadata": {},
   "source": [
    "A função abaixo realiza o aumento de dados caso a amostragem seja pequena. No caso para aumentar a quantidade de dados, a função recebe a imagem como parâmetro e gera novas imagens baseadas na imagem informada, fazendo alterações nela, como: alterar o brilho, inverter a imagem, virar a imagem para direita ou esquerda, alterar a saturação, etc. Gerando assim, imagens semelhantes com algumas diferenças entre elas."
   ]
  },
  {
   "cell_type": "code",
   "execution_count": 15,
   "metadata": {},
   "outputs": [],
   "source": [
    "def data_aug(img):\n",
    "    data = []\n",
    "    for i in range(9):\n",
    "        img = tf.image.stateless_random_brightness(img, max_delta=0.02, seed=(1,2))\n",
    "        img = tf.image.stateless_random_contrast(img, lower=0.6, upper=1, seed=(1,3))\n",
    "        # img = tf.image.stateless_random_crop(img, size=(20,20,3), seed=(1,2))\n",
    "        img = tf.image.stateless_random_flip_left_right(img, seed=(np.random.randint(100),np.random.randint(100)))\n",
    "        img = tf.image.stateless_random_jpeg_quality(img, min_jpeg_quality=90, max_jpeg_quality=100, seed=(np.random.randint(100),np.random.randint(100)))\n",
    "        img = tf.image.stateless_random_saturation(img, lower=0.9,upper=1, seed=(np.random.randint(100),np.random.randint(100)))\n",
    "            \n",
    "        data.append(img)\n",
    "    \n",
    "    return data"
   ]
  },
  {
   "cell_type": "code",
   "execution_count": 16,
   "metadata": {},
   "outputs": [],
   "source": [
    "import os\n",
    "import uuid"
   ]
  },
  {
   "cell_type": "code",
   "execution_count": 18,
   "metadata": {},
   "outputs": [],
   "source": [
    "img_path = os.path.join(ANC_PATH, 'd0cf4b1c-70d9-11ed-8403-298e54280f9a.jpg')\n",
    "img = cv2.imread(img_path)\n",
    "augmented_images = data_aug(img)\n",
    "\n",
    "for image in augmented_images:\n",
    "    cv2.imwrite(os.path.join(ANC_PATH, '{}.jpg'.format(uuid.uuid1())), image.numpy())"
   ]
  },
  {
   "cell_type": "code",
   "execution_count": 19,
   "metadata": {
    "tags": []
   },
   "outputs": [],
   "source": [
    "for file_name in os.listdir(os.path.join(POS_PATH)):\n",
    "    img_path = os.path.join(POS_PATH, file_name)\n",
    "    img = cv2.imread(img_path)\n",
    "    augmented_images = data_aug(img) \n",
    "    \n",
    "    for image in augmented_images:\n",
    "        cv2.imwrite(os.path.join(POS_PATH, '{}.jpg'.format(uuid.uuid1())), image.numpy())"
   ]
  },
  {
   "cell_type": "markdown",
   "metadata": {},
   "source": [
    "# 3. Load and Preprocess Images"
   ]
  },
  {
   "cell_type": "markdown",
   "metadata": {},
   "source": [
    "Nessa seção iremos carregar e pre-processar as imagens que salvamos."
   ]
  },
  {
   "cell_type": "markdown",
   "metadata": {},
   "source": [
    "## 3.1 Get Image Directories"
   ]
  },
  {
   "cell_type": "markdown",
   "metadata": {},
   "source": [
    "Aqui vamos utilizar o tensorflow para carregar as imagens salvas. Assim, podemos iterar sobre cada imagem de cada deretório."
   ]
  },
  {
   "cell_type": "code",
   "execution_count": 20,
   "metadata": {},
   "outputs": [],
   "source": [
    "anchor = tf.data.Dataset.list_files(ANC_PATH+'/*.jpg').take(3000)\n",
    "positive = tf.data.Dataset.list_files(POS_PATH+'/*.jpg').take(3000)\n",
    "negative = tf.data.Dataset.list_files(NEG_PATH+'/*.jpg').take(3000)"
   ]
  },
  {
   "cell_type": "code",
   "execution_count": 21,
   "metadata": {},
   "outputs": [],
   "source": [
    "dir_test = anchor.as_numpy_iterator()"
   ]
  },
  {
   "cell_type": "code",
   "execution_count": 22,
   "metadata": {},
   "outputs": [
    {
     "name": "stdout",
     "output_type": "stream",
     "text": [
      "b'data/anchor/ed8607be-70d9-11ed-8403-298e54280f9a.jpg'\n"
     ]
    }
   ],
   "source": [
    "print(dir_test.next())"
   ]
  },
  {
   "cell_type": "markdown",
   "metadata": {},
   "source": [
    "## 3.2 Preprocessing - Scale and Resize"
   ]
  },
  {
   "cell_type": "markdown",
   "metadata": {},
   "source": [
    "A função abaixo faz o processamento da imagem. A função recebe como parâmetro o caminho completo da imagem a ser processada. Em seguida essa imagem é redimensionada para 100x100. Após ser redimensionada, ela é transformada para que fique em uma escala representada em números entre 0 e 1."
   ]
  },
  {
   "cell_type": "code",
   "execution_count": 23,
   "metadata": {},
   "outputs": [],
   "source": [
    "def preprocess(file_path):\n",
    "    \n",
    "    # Read in image from file path\n",
    "    byte_img = tf.io.read_file(file_path)\n",
    "    # Load in the image \n",
    "    img = tf.io.decode_jpeg(byte_img)\n",
    "    \n",
    "    # Preprocessing steps - resizing the image to be 100x100x3\n",
    "    img = tf.image.resize(img, (100,100))\n",
    "    # Scale image to be between 0 and 1 \n",
    "    img = img / 255.0\n",
    "\n",
    "    # Return image\n",
    "    return img"
   ]
  },
  {
   "cell_type": "code",
   "execution_count": 24,
   "metadata": {
    "scrolled": true,
    "tags": []
   },
   "outputs": [],
   "source": [
    "img = preprocess('data/anchor/d0cf4b1c-70d9-11ed-8403-298e54280f9a.jpg')"
   ]
  },
  {
   "cell_type": "code",
   "execution_count": 25,
   "metadata": {},
   "outputs": [
    {
     "data": {
      "text/plain": [
       "1.0"
      ]
     },
     "execution_count": 25,
     "metadata": {},
     "output_type": "execute_result"
    }
   ],
   "source": [
    "img.numpy().max() "
   ]
  },
  {
   "cell_type": "markdown",
   "metadata": {},
   "source": [
    "## 3.3 Create Labelled Dataset"
   ]
  },
  {
   "cell_type": "markdown",
   "metadata": {},
   "source": [
    "Vamos rotular os dados. \n",
    "\n",
    "Para cada par (anchor, positive) vamos definir como verdadeiro(1). Para cada par (anchor, negative) vamos definir como falso(0)."
   ]
  },
  {
   "cell_type": "code",
   "execution_count": 179,
   "metadata": {},
   "outputs": [],
   "source": [
    "# (anchor, positive) => 1,1,1,1,1\n",
    "# (anchor, negative) => 0,0,0,0,0"
   ]
  },
  {
   "cell_type": "code",
   "execution_count": 26,
   "metadata": {},
   "outputs": [],
   "source": [
    "positives = tf.data.Dataset.zip((anchor, positive, tf.data.Dataset.from_tensor_slices(tf.ones(len(anchor)))))\n",
    "negatives = tf.data.Dataset.zip((anchor, negative, tf.data.Dataset.from_tensor_slices(tf.zeros(len(anchor)))))\n",
    "data = positives.concatenate(negatives)"
   ]
  },
  {
   "cell_type": "code",
   "execution_count": 27,
   "metadata": {},
   "outputs": [],
   "source": [
    "samples = data.as_numpy_iterator()"
   ]
  },
  {
   "cell_type": "code",
   "execution_count": 28,
   "metadata": {},
   "outputs": [],
   "source": [
    "exampple = samples.next()"
   ]
  },
  {
   "cell_type": "code",
   "execution_count": 29,
   "metadata": {
    "tags": []
   },
   "outputs": [
    {
     "data": {
      "text/plain": [
       "(b'data/anchor/ef062d3a-70d9-11ed-8403-298e54280f9a.jpg',\n",
       " b'data/positive/2363a512-70da-11ed-8403-298e54280f9a.jpg',\n",
       " 1.0)"
      ]
     },
     "execution_count": 29,
     "metadata": {},
     "output_type": "execute_result"
    }
   ],
   "source": [
    "exampple"
   ]
  },
  {
   "cell_type": "markdown",
   "metadata": {},
   "source": [
    "## 3.4 Build Train and Test Partition"
   ]
  },
  {
   "cell_type": "markdown",
   "metadata": {},
   "source": [
    "Para cada par (imagem_entrada, imagem_validacao) vamos realizar o pre-processamento das imagens por meio do método que criamos anteriormente(`preprocess`) e vamos retornar as imagens pre-processadas com seu respectivo label."
   ]
  },
  {
   "cell_type": "code",
   "execution_count": 30,
   "metadata": {},
   "outputs": [],
   "source": [
    "def preprocess_twin(input_img, validation_img, label):\n",
    "    return(preprocess(input_img), preprocess(validation_img), label)"
   ]
  },
  {
   "cell_type": "code",
   "execution_count": 31,
   "metadata": {},
   "outputs": [],
   "source": [
    "res = preprocess_twin(*exampple)"
   ]
  },
  {
   "cell_type": "code",
   "execution_count": 32,
   "metadata": {},
   "outputs": [
    {
     "data": {
      "text/plain": [
       "<matplotlib.image.AxesImage at 0x7f567c76bee0>"
      ]
     },
     "execution_count": 32,
     "metadata": {},
     "output_type": "execute_result"
    },
    {
     "data": {
      "image/png": "[encoded data removed]",
      "text/plain": [
       "<Figure size 432x288 with 1 Axes>"
      ]
     },
     "metadata": {
      "needs_background": "light"
     },
     "output_type": "display_data"
    }
   ],
   "source": [
    "plt.imshow(res[1])"
   ]
  },
  {
   "cell_type": "code",
   "execution_count": 33,
   "metadata": {},
   "outputs": [
    {
     "data": {
      "text/plain": [
       "1.0"
      ]
     },
     "execution_count": 33,
     "metadata": {},
     "output_type": "execute_result"
    }
   ],
   "source": [
    "res[2]"
   ]
  },
  {
   "cell_type": "markdown",
   "metadata": {},
   "source": [
    "Vamos construir o dataset embaralhando os dados."
   ]
  },
  {
   "cell_type": "code",
   "execution_count": 34,
   "metadata": {},
   "outputs": [],
   "source": [
    "# Build dataloader pipeline\n",
    "data = data.map(preprocess_twin)\n",
    "data = data.cache()\n",
    "data = data.shuffle(buffer_size=10000)"
   ]
  },
  {
   "cell_type": "markdown",
   "metadata": {},
   "source": [
    "Vamos coletar 70% dos dados para treino com batch de tamanho 16."
   ]
  },
  {
   "cell_type": "code",
   "execution_count": 35,
   "metadata": {},
   "outputs": [],
   "source": [
    "# Training partition\n",
    "train_data = data.take(round(len(data)*.7))\n",
    "train_data = train_data.batch(16)\n",
    "train_data = train_data.prefetch(8)"
   ]
  },
  {
   "cell_type": "markdown",
   "metadata": {},
   "source": [
    "Vamos coletar 30% dos dados para teste com batch de tamanho 16."
   ]
  },
  {
   "cell_type": "code",
   "execution_count": 36,
   "metadata": {},
   "outputs": [],
   "source": [
    "# Testing partition\n",
    "test_data = data.skip(round(len(data)*.7))\n",
    "test_data = test_data.take(round(len(data)*.3))\n",
    "test_data = test_data.batch(16)\n",
    "test_data = test_data.prefetch(8)"
   ]
  },
  {
   "cell_type": "markdown",
   "metadata": {},
   "source": [
    "# 4. Model Engineering"
   ]
  },
  {
   "cell_type": "markdown",
   "metadata": {},
   "source": [
    "Nessa seção iremos construir nosso modelo. Esse modelo é baseado no modelo proposto no artigo desse experimento."
   ]
  },
  {
   "cell_type": "markdown",
   "metadata": {},
   "source": [
    "## 4.1 Build Embedding Layer"
   ]
  },
  {
   "cell_type": "markdown",
   "metadata": {},
   "source": [
    "Precisamos criar inicialmente nossa camada de entrada. Nesse caso essa camada vai receber uma imagem 100x100. O código da camada está logo abaixo."
   ]
  },
  {
   "cell_type": "code",
   "execution_count": 37,
   "metadata": {},
   "outputs": [],
   "source": [
    "inp = Input(shape=(100,100,3), name='input_image')"
   ]
  },
  {
   "cell_type": "markdown",
   "metadata": {},
   "source": [
    "Após criamos a camada de entrada, precisamos criar a próxima camada. \n",
    "Será criada uma camada convolucional com 64 filtros e dimensão 10x10.\n",
    "E com a função relu como ativação."
   ]
  },
  {
   "cell_type": "code",
   "execution_count": 38,
   "metadata": {},
   "outputs": [],
   "source": [
    "c1 = Conv2D(64, (10,10), activation='relu')(inp)"
   ]
  },
  {
   "cell_type": "markdown",
   "metadata": {},
   "source": [
    "A próxima camada será a camada max pooling. Essa camada reduz a amostra da entrada ao longo de suas dimensões espaciais (altura e largura) tomando o valor máximo em uma janela de entrada (de tamanho definido pelo parâmetro de entrada chamado `pool_size`) para cada canal da entrada. Aqui definimos o `pool_size` igual a (2,2), bem como teremos 64 unidades nessa camada.\n",
    "\n",
    "Além disso, vamos utilizar o `padding` igual a `same`. Isso resultará no preenchimento uniforme da entrada, de modo que a saída tenha a mesma dimensão de altura/largura que a entrada."
   ]
  },
  {
   "cell_type": "code",
   "execution_count": 39,
   "metadata": {},
   "outputs": [],
   "source": [
    "m1 = MaxPooling2D(64, (2,2), padding='same')(c1)"
   ]
  },
  {
   "cell_type": "markdown",
   "metadata": {},
   "source": [
    "Agora vamos criar mais quatro camadas com o mesmo entendimento das camadas que criamos anteriormente, porém com parâmetros diferentes."
   ]
  },
  {
   "cell_type": "markdown",
   "metadata": {},
   "source": [
    "Vamos criar uma camada convulucional `c2` com 128 filtros e dimensão 7x7 e ativação relu.\n",
    "Criaremos também uma camada de max pooling(`m2`) com 64 unidades, bem como pool_size igual a (2,2) e padding igual a same."
   ]
  },
  {
   "cell_type": "code",
   "execution_count": 40,
   "metadata": {},
   "outputs": [],
   "source": [
    "c2 = Conv2D(128, (7,7), activation='relu')(m1)\n",
    "m2 = MaxPooling2D(64, (2,2), padding='same')(c2)"
   ]
  },
  {
   "cell_type": "markdown",
   "metadata": {},
   "source": [
    "Vamos criar uma camada convulucional `c3` com 128 filtros e dimensão 4x4 e ativação relu.\n",
    "Criaremos também mais uma camada de max pooling(`m3`) com 64 unidades, bem como pool_size igual a (2,2) e padding igual a same."
   ]
  },
  {
   "cell_type": "code",
   "execution_count": 41,
   "metadata": {},
   "outputs": [],
   "source": [
    "c3 = Conv2D(128, (4,4), activation='relu')(m2)\n",
    "m3 = MaxPooling2D(64, (2,2), padding='same')(c3)"
   ]
  },
  {
   "cell_type": "markdown",
   "metadata": {},
   "source": [
    "Vamos criar uma camada convulucional `c4` com 128 filtros e dimensão 4x4 e ativação relu.\n",
    "Criaremos uma camada `Flatten`. Essa camada é usada para converter as matrizes resultantes das camadas anteriores em um único vetor linear que será passado para a próxima camada.\n",
    "Na próxima camada teremos uma camada densa com 4096 unidades. Esse valor é resultante da dimensão da camada `c4`, pois temos $ 256\\times4\\times4 = 4096$. E usaremos a função de ativação sigmoid."
   ]
  },
  {
   "cell_type": "code",
   "execution_count": 42,
   "metadata": {},
   "outputs": [],
   "source": [
    "c4 = Conv2D(256, (4,4), activation='relu')(m3)\n",
    "f1 = Flatten()(c4)\n",
    "d1 = Dense(4096, activation='sigmoid')(f1)"
   ]
  },
  {
   "cell_type": "markdown",
   "metadata": {},
   "source": [
    "Aqui criamos o modelo com as camadas criadas anteriormente."
   ]
  },
  {
   "cell_type": "code",
   "execution_count": 43,
   "metadata": {},
   "outputs": [],
   "source": [
    "mod = Model(inputs=[inp], outputs=[d1], name='embedding')"
   ]
  },
  {
   "cell_type": "markdown",
   "metadata": {},
   "source": [
    "Aqui temos o resumo do modelo criado."
   ]
  },
  {
   "cell_type": "code",
   "execution_count": 44,
   "metadata": {},
   "outputs": [
    {
     "name": "stdout",
     "output_type": "stream",
     "text": [
      "Model: \"embedding\"\n",
      "_________________________________________________________________\n",
      "Layer (type)                 Output Shape              Param #   \n",
      "=================================================================\n",
      "input_image (InputLayer)     [(None, 100, 100, 3)]     0         \n",
      "_________________________________________________________________\n",
      "conv2d (Conv2D)              (None, 91, 91, 64)        19264     \n",
      "_________________________________________________________________\n",
      "max_pooling2d (MaxPooling2D) (None, 46, 46, 64)        0         \n",
      "_________________________________________________________________\n",
      "conv2d_1 (Conv2D)            (None, 40, 40, 128)       401536    \n",
      "_________________________________________________________________\n",
      "max_pooling2d_1 (MaxPooling2 (None, 20, 20, 128)       0         \n",
      "_________________________________________________________________\n",
      "conv2d_2 (Conv2D)            (None, 17, 17, 128)       262272    \n",
      "_________________________________________________________________\n",
      "max_pooling2d_2 (MaxPooling2 (None, 9, 9, 128)         0         \n",
      "_________________________________________________________________\n",
      "conv2d_3 (Conv2D)            (None, 6, 6, 256)         524544    \n",
      "_________________________________________________________________\n",
      "flatten (Flatten)            (None, 9216)              0         \n",
      "_________________________________________________________________\n",
      "dense (Dense)                (None, 4096)              37752832  \n",
      "=================================================================\n",
      "Total params: 38,960,448\n",
      "Trainable params: 38,960,448\n",
      "Non-trainable params: 0\n",
      "_________________________________________________________________\n"
     ]
    }
   ],
   "source": [
    "mod.summary()"
   ]
  },
  {
   "cell_type": "markdown",
   "metadata": {},
   "source": [
    "A função abaixo facilita a criação do modelo que foi demonstrado anteriormente, pois criaremos o modelo apenas com a chamada de um único método. Porém, o modelo criado aqui é o mesmo do explicado anteriormente."
   ]
  },
  {
   "cell_type": "code",
   "execution_count": 45,
   "metadata": {},
   "outputs": [],
   "source": [
    "def make_embedding(): \n",
    "    inp = Input(shape=(100,100,3), name='input_image')\n",
    "    \n",
    "    # First block\n",
    "    c1 = Conv2D(64, (10,10), activation='relu')(inp)\n",
    "    m1 = MaxPooling2D(64, (2,2), padding='same')(c1)\n",
    "    \n",
    "    # Second block\n",
    "    c2 = Conv2D(128, (7,7), activation='relu')(m1)\n",
    "    m2 = MaxPooling2D(64, (2,2), padding='same')(c2)\n",
    "    \n",
    "    # Third block \n",
    "    c3 = Conv2D(128, (4,4), activation='relu')(m2)\n",
    "    m3 = MaxPooling2D(64, (2,2), padding='same')(c3)\n",
    "    \n",
    "    # Final embedding block\n",
    "    c4 = Conv2D(256, (4,4), activation='relu')(m3)\n",
    "    f1 = Flatten()(c4)\n",
    "    d1 = Dense(4096, activation='sigmoid')(f1)\n",
    "    \n",
    "    \n",
    "    return Model(inputs=[inp], outputs=[d1], name='embedding')"
   ]
  },
  {
   "cell_type": "code",
   "execution_count": 46,
   "metadata": {},
   "outputs": [],
   "source": [
    "embedding = make_embedding()"
   ]
  },
  {
   "cell_type": "code",
   "execution_count": 47,
   "metadata": {},
   "outputs": [
    {
     "name": "stdout",
     "output_type": "stream",
     "text": [
      "Model: \"embedding\"\n",
      "_________________________________________________________________\n",
      "Layer (type)                 Output Shape              Param #   \n",
      "=================================================================\n",
      "input_image (InputLayer)     [(None, 100, 100, 3)]     0         \n",
      "_________________________________________________________________\n",
      "conv2d_4 (Conv2D)            (None, 91, 91, 64)        19264     \n",
      "_________________________________________________________________\n",
      "max_pooling2d_3 (MaxPooling2 (None, 46, 46, 64)        0         \n",
      "_________________________________________________________________\n",
      "conv2d_5 (Conv2D)            (None, 40, 40, 128)       401536    \n",
      "_________________________________________________________________\n",
      "max_pooling2d_4 (MaxPooling2 (None, 20, 20, 128)       0         \n",
      "_________________________________________________________________\n",
      "conv2d_6 (Conv2D)            (None, 17, 17, 128)       262272    \n",
      "_________________________________________________________________\n",
      "max_pooling2d_5 (MaxPooling2 (None, 9, 9, 128)         0         \n",
      "_________________________________________________________________\n",
      "conv2d_7 (Conv2D)            (None, 6, 6, 256)         524544    \n",
      "_________________________________________________________________\n",
      "flatten_1 (Flatten)          (None, 9216)              0         \n",
      "_________________________________________________________________\n",
      "dense_1 (Dense)              (None, 4096)              37752832  \n",
      "=================================================================\n",
      "Total params: 38,960,448\n",
      "Trainable params: 38,960,448\n",
      "Non-trainable params: 0\n",
      "_________________________________________________________________\n"
     ]
    }
   ],
   "source": [
    "embedding.summary()"
   ]
  },
  {
   "cell_type": "markdown",
   "metadata": {},
   "source": [
    "## 4.2 Build Distance Layer"
   ]
  },
  {
   "cell_type": "markdown",
   "metadata": {},
   "source": [
    "Aqui vamos criar uma `Distance Layer`. Ela irá calcular e nos dizer o quão similar as imagens que estão sendo comparadas são. "
   ]
  },
  {
   "cell_type": "code",
   "execution_count": 48,
   "metadata": {},
   "outputs": [],
   "source": [
    "# Siamese L1 Distance class\n",
    "class L1Dist(Layer):\n",
    "    \n",
    "    # Init method - inheritance\n",
    "    def __init__(self, **kwargs):\n",
    "        super().__init__()\n",
    "       \n",
    "    # Magic happens here - similarity calculation\n",
    "    def call(self, input_embedding, validation_embedding):\n",
    "        return tf.math.abs(input_embedding - validation_embedding)"
   ]
  },
  {
   "cell_type": "code",
   "execution_count": 49,
   "metadata": {},
   "outputs": [],
   "source": [
    "l1 = L1Dist()"
   ]
  },
  {
   "cell_type": "markdown",
   "metadata": {},
   "source": [
    "## 4.3 Make Siamese Model"
   ]
  },
  {
   "cell_type": "markdown",
   "metadata": {},
   "source": [
    "Nessa parte vamos criar o Siamese Model. No qual receberá dois inputs, a imagem de entrada e a imagem de validação.\n",
    "Ambas imagens serão passadas para o modelo que criamos anteriormente e serão processadas pelas camadas que criamos."
   ]
  },
  {
   "cell_type": "code",
   "execution_count": 50,
   "metadata": {},
   "outputs": [],
   "source": [
    "input_image = Input(name='input_img', shape=(100,100,3))\n",
    "validation_image = Input(name='validation_img', shape=(100,100,3))"
   ]
  },
  {
   "cell_type": "code",
   "execution_count": 51,
   "metadata": {},
   "outputs": [],
   "source": [
    "inp_embedding = embedding(input_image)\n",
    "val_embedding = embedding(validation_image)"
   ]
  },
  {
   "cell_type": "markdown",
   "metadata": {},
   "source": [
    "Após processar as imagens no modelo, vamos agora calulcar a distância entre elas e logo em seguida vamos classificar para ver o quão similar ambas as imagens são. Para isso vamos utilizar a camada `Distance Layer` que criamos anteriormente.\n",
    "\n",
    "Após isso, enviaremos o resultado das distâncias para uma camada densa que irá utilizar a função sigmoid para realizar a classificação."
   ]
  },
  {
   "cell_type": "code",
   "execution_count": 52,
   "metadata": {},
   "outputs": [],
   "source": [
    "siamese_layer = L1Dist()"
   ]
  },
  {
   "cell_type": "code",
   "execution_count": 53,
   "metadata": {},
   "outputs": [],
   "source": [
    "distances = siamese_layer(inp_embedding, val_embedding)"
   ]
  },
  {
   "cell_type": "code",
   "execution_count": 54,
   "metadata": {},
   "outputs": [],
   "source": [
    "classifier = Dense(1, activation='sigmoid')(distances)"
   ]
  },
  {
   "cell_type": "code",
   "execution_count": 55,
   "metadata": {},
   "outputs": [
    {
     "data": {
      "text/plain": [
       "<KerasTensor: shape=(None, 1) dtype=float32 (created by layer 'dense_2')>"
      ]
     },
     "execution_count": 55,
     "metadata": {},
     "output_type": "execute_result"
    }
   ],
   "source": [
    "classifier"
   ]
  },
  {
   "cell_type": "code",
   "execution_count": 56,
   "metadata": {},
   "outputs": [],
   "source": [
    "siamese_network = Model(inputs=[input_image, validation_image], outputs=classifier, name='SiameseNetwork')"
   ]
  },
  {
   "cell_type": "code",
   "execution_count": 57,
   "metadata": {},
   "outputs": [
    {
     "name": "stdout",
     "output_type": "stream",
     "text": [
      "Model: \"SiameseNetwork\"\n",
      "__________________________________________________________________________________________________\n",
      "Layer (type)                    Output Shape         Param #     Connected to                     \n",
      "==================================================================================================\n",
      "input_img (InputLayer)          [(None, 100, 100, 3) 0                                            \n",
      "__________________________________________________________________________________________________\n",
      "validation_img (InputLayer)     [(None, 100, 100, 3) 0                                            \n",
      "__________________________________________________________________________________________________\n",
      "embedding (Functional)          (None, 4096)         38960448    input_img[0][0]                  \n",
      "                                                                 validation_img[0][0]             \n",
      "__________________________________________________________________________________________________\n",
      "l1_dist_1 (L1Dist)              (None, 4096)         0           embedding[0][0]                  \n",
      "                                                                 embedding[1][0]                  \n",
      "__________________________________________________________________________________________________\n",
      "dense_2 (Dense)                 (None, 1)            4097        l1_dist_1[0][0]                  \n",
      "==================================================================================================\n",
      "Total params: 38,964,545\n",
      "Trainable params: 38,964,545\n",
      "Non-trainable params: 0\n",
      "__________________________________________________________________________________________________\n"
     ]
    }
   ],
   "source": [
    "siamese_network.summary()"
   ]
  },
  {
   "cell_type": "markdown",
   "metadata": {},
   "source": [
    "Aqui temos um método `make_siamese_model` para criar tudo o que fizemos anteriormente."
   ]
  },
  {
   "cell_type": "code",
   "execution_count": 58,
   "metadata": {},
   "outputs": [],
   "source": [
    "def make_siamese_model(): \n",
    "    \n",
    "    # Anchor image input in the network\n",
    "    input_image = Input(name='input_img', shape=(100,100,3))\n",
    "    \n",
    "    # Validation image in the network \n",
    "    validation_image = Input(name='validation_img', shape=(100,100,3))\n",
    "    \n",
    "    # Combine siamese distance components\n",
    "    siamese_layer = L1Dist()\n",
    "    siamese_layer._name = 'distance'\n",
    "    distances = siamese_layer(embedding(input_image), embedding(validation_image))\n",
    "    \n",
    "    # Classification layer \n",
    "    classifier = Dense(1, activation='sigmoid')(distances)\n",
    "    \n",
    "    return Model(inputs=[input_image, validation_image], outputs=classifier, name='SiameseNetwork')"
   ]
  },
  {
   "cell_type": "code",
   "execution_count": 59,
   "metadata": {},
   "outputs": [],
   "source": [
    "siamese_model = make_siamese_model()"
   ]
  },
  {
   "cell_type": "code",
   "execution_count": 60,
   "metadata": {
    "tags": []
   },
   "outputs": [
    {
     "name": "stdout",
     "output_type": "stream",
     "text": [
      "Model: \"SiameseNetwork\"\n",
      "__________________________________________________________________________________________________\n",
      "Layer (type)                    Output Shape         Param #     Connected to                     \n",
      "==================================================================================================\n",
      "input_img (InputLayer)          [(None, 100, 100, 3) 0                                            \n",
      "__________________________________________________________________________________________________\n",
      "validation_img (InputLayer)     [(None, 100, 100, 3) 0                                            \n",
      "__________________________________________________________________________________________________\n",
      "embedding (Functional)          (None, 4096)         38960448    input_img[0][0]                  \n",
      "                                                                 validation_img[0][0]             \n",
      "__________________________________________________________________________________________________\n",
      "distance (L1Dist)               (None, 4096)         0           embedding[2][0]                  \n",
      "                                                                 embedding[3][0]                  \n",
      "__________________________________________________________________________________________________\n",
      "dense_3 (Dense)                 (None, 1)            4097        distance[0][0]                   \n",
      "==================================================================================================\n",
      "Total params: 38,964,545\n",
      "Trainable params: 38,964,545\n",
      "Non-trainable params: 0\n",
      "__________________________________________________________________________________________________\n"
     ]
    }
   ],
   "source": [
    "siamese_model.summary()"
   ]
  },
  {
   "cell_type": "markdown",
   "metadata": {},
   "source": [
    "# 5. Training"
   ]
  },
  {
   "cell_type": "markdown",
   "metadata": {},
   "source": [
    "Nessa seção vamos definir os parâmetros para treinamento do modelo."
   ]
  },
  {
   "cell_type": "markdown",
   "metadata": {},
   "source": [
    "## 5.1 Setup Loss and Optimizer"
   ]
  },
  {
   "cell_type": "markdown",
   "metadata": {},
   "source": [
    "Aqui vamos criar a função de perda `BinaryCrossentropy`, ela calcula a perda de entropia cruzada entre rótulos verdadeiros e rótulos previstos.\n",
    "Também vamos definir uma função de otimização Adam. A otimização Adam é um método estocástico de gradiente descendente."
   ]
  },
  {
   "cell_type": "code",
   "execution_count": 61,
   "metadata": {},
   "outputs": [],
   "source": [
    "binary_cross_loss = tf.losses.BinaryCrossentropy()"
   ]
  },
  {
   "cell_type": "code",
   "execution_count": 62,
   "metadata": {},
   "outputs": [],
   "source": [
    "opt = tf.keras.optimizers.Adam(1e-4) # 0.0001"
   ]
  },
  {
   "cell_type": "markdown",
   "metadata": {},
   "source": [
    "## 5.2 Establish Checkpoints"
   ]
  },
  {
   "cell_type": "markdown",
   "metadata": {},
   "source": [
    "Aqui vamos definir os checkpoints no treinamento.\n",
    "Iremos salvar os checkpoint no diretório `./training_checkpoints`.\n",
    "Temos também a variável `checkpoint_prefix` ela irá auxiliar para adicionar o prefixo `ckpt` para cada arquivo salvo no diretório.\n",
    "E temos o `checkpoint` que recebe como parâmetro o modelo e o otimizador que criamos anteriormente."
   ]
  },
  {
   "cell_type": "code",
   "execution_count": 63,
   "metadata": {},
   "outputs": [],
   "source": [
    "checkpoint_dir = './training_checkpoints'\n",
    "checkpoint_prefix = os.path.join(checkpoint_dir, 'ckpt')\n",
    "checkpoint = tf.train.Checkpoint(opt=opt, siamese_model=siamese_model)"
   ]
  },
  {
   "cell_type": "markdown",
   "metadata": {},
   "source": [
    "## 5.3 Build Train Step Function"
   ]
  },
  {
   "cell_type": "markdown",
   "metadata": {},
   "source": [
    "Temos aqui apenas uma amostragem dos dados de treino e teste. O batch será de tamanho 16 e cada item nesse batch é representado por vetores."
   ]
  },
  {
   "cell_type": "code",
   "execution_count": 64,
   "metadata": {},
   "outputs": [],
   "source": [
    "test_batch = train_data.as_numpy_iterator()"
   ]
  },
  {
   "cell_type": "code",
   "execution_count": 65,
   "metadata": {},
   "outputs": [],
   "source": [
    "batch_1 = test_batch.next()"
   ]
  },
  {
   "cell_type": "code",
   "execution_count": 66,
   "metadata": {},
   "outputs": [],
   "source": [
    "X = batch_1[:2]"
   ]
  },
  {
   "cell_type": "code",
   "execution_count": 67,
   "metadata": {},
   "outputs": [],
   "source": [
    "y = batch_1[2]"
   ]
  },
  {
   "cell_type": "code",
   "execution_count": 68,
   "metadata": {},
   "outputs": [
    {
     "data": {
      "text/plain": [
       "array([0., 0., 1., 1., 0., 0., 1., 0., 0., 0., 1., 0., 1., 1., 1., 1.],\n",
       "      dtype=float32)"
      ]
     },
     "execution_count": 68,
     "metadata": {},
     "output_type": "execute_result"
    }
   ],
   "source": [
    "y"
   ]
  },
  {
   "cell_type": "code",
   "execution_count": 69,
   "metadata": {
    "jupyter": {
     "outputs_hidden": true
    },
    "tags": []
   },
   "outputs": [],
   "source": [
    "tf.losses.BinaryCrossentropy??"
   ]
  },
  {
   "cell_type": "markdown",
   "metadata": {},
   "source": [
    "Temos abaixo o método que realizará os passos do treino. \n",
    "* As imagens(anchor, positiva, negativa) serão passadas para o modelo\n",
    "* O modelo recebe as imagens\n",
    "* Após o modelo processar as imagens, irá ser calculado o erro\n",
    "* Após o erro ser calculado iremos calcular o gradiente\n",
    "* E por fim iremos fazer o backpropagation atualizando os pesos do modelo"
   ]
  },
  {
   "cell_type": "code",
   "execution_count": 70,
   "metadata": {
    "tags": []
   },
   "outputs": [],
   "source": [
    "@tf.function\n",
    "def train_step(batch):\n",
    "    \n",
    "    # Record all of our operations \n",
    "    with tf.GradientTape() as tape:     \n",
    "        # Get anchor and positive/negative image\n",
    "        X = batch[:2]\n",
    "        # Get label\n",
    "        y = batch[2]\n",
    "        \n",
    "        # Forward pass\n",
    "        yhat = siamese_model(X, training=True)\n",
    "        # Calculate loss\n",
    "        loss = binary_cross_loss(y, yhat)\n",
    "    print(loss)\n",
    "        \n",
    "    # Calculate gradients\n",
    "    grad = tape.gradient(loss, siamese_model.trainable_variables)\n",
    "    \n",
    "    # Calculate updated weights and apply to siamese model\n",
    "    opt.apply_gradients(zip(grad, siamese_model.trainable_variables))\n",
    "        \n",
    "    # Return loss\n",
    "    return loss"
   ]
  },
  {
   "cell_type": "markdown",
   "metadata": {},
   "source": [
    "## 5.4 Build Training Loop"
   ]
  },
  {
   "cell_type": "markdown",
   "metadata": {},
   "source": [
    "Vamos criar aqui o método de treino, no qual receberemos os dados e a quantidade e épocas que o modelo deverá ser treinado."
   ]
  },
  {
   "cell_type": "code",
   "execution_count": 71,
   "metadata": {},
   "outputs": [],
   "source": [
    "# Import metric calculations\n",
    "from tensorflow.keras.metrics import Precision, Recall"
   ]
  },
  {
   "cell_type": "markdown",
   "metadata": {},
   "source": [
    "* O método recebe os dados `data` como entrada e a quantidade de épocas `EPOCHS`.\n",
    "* O método irá iterar sobre cada época, e em cada época será feita uma iteração no batch dos dados.\n",
    "* Serão utilizadas as métricas Precision e Recall no qual o resultado serão visualizados para cada época de treino.\n",
    "* Para cada batch será calculado os passos do treino pelo método que criamos e definimos anteriormente(`train_step`)\n",
    "* E por fim, a cada 10 épocas iremos criar um checkpoint utilizando a função que criamos anteriormente chamado `checkpoint`."
   ]
  },
  {
   "cell_type": "code",
   "execution_count": 72,
   "metadata": {},
   "outputs": [],
   "source": [
    "def train(data, EPOCHS):\n",
    "    # Loop through epochs\n",
    "    for epoch in range(1, EPOCHS+1):\n",
    "        print('\\n Epoch {}/{}'.format(epoch, EPOCHS))\n",
    "        progbar = tf.keras.utils.Progbar(len(data))\n",
    "        \n",
    "        # Creating a metric object \n",
    "        r = Recall()\n",
    "        p = Precision()\n",
    "        \n",
    "        # Loop through each batch\n",
    "        for idx, batch in enumerate(data):\n",
    "            # Run train step here\n",
    "            loss = train_step(batch)\n",
    "            yhat = siamese_model.predict(batch[:2])\n",
    "            r.update_state(batch[2], yhat)\n",
    "            p.update_state(batch[2], yhat) \n",
    "            progbar.update(idx+1)\n",
    "        print(loss.numpy(), r.result().numpy(), p.result().numpy())\n",
    "        \n",
    "        # Save checkpoints\n",
    "        if epoch % 10 == 0: \n",
    "            checkpoint.save(file_prefix=checkpoint_prefix)"
   ]
  },
  {
   "cell_type": "markdown",
   "metadata": {},
   "source": [
    "## 5.5 Train the model"
   ]
  },
  {
   "cell_type": "markdown",
   "metadata": {},
   "source": [
    "Nessa parte iremos treinar o modelo utilizando os dados de treino e 50 épocas."
   ]
  },
  {
   "cell_type": "code",
   "execution_count": 73,
   "metadata": {},
   "outputs": [],
   "source": [
    "EPOCHS = 50"
   ]
  },
  {
   "cell_type": "code",
   "execution_count": 74,
   "metadata": {
    "scrolled": true,
    "tags": []
   },
   "outputs": [
    {
     "name": "stdout",
     "output_type": "stream",
     "text": [
      "\n",
      " Epoch 1/50\n",
      "Tensor(\"binary_crossentropy/weighted_loss/value:0\", shape=(), dtype=float32)\n",
      "Tensor(\"binary_crossentropy/weighted_loss/value:0\", shape=(), dtype=float32)\n",
      "5/6 [========================>.....] - ETA: 6s Tensor(\"binary_crossentropy/weighted_loss/value:0\", shape=(), dtype=float32)\n",
      "6/6 [==============================] - 33s 5s/step\n",
      "0.78202266 0.0952381 0.8\n",
      "\n",
      " Epoch 2/50\n",
      "6/6 [==============================] - 33s 5s/step\n",
      "0.6865735 0.9 0.5294118\n",
      "\n",
      " Epoch 3/50\n",
      "6/6 [==============================] - 32s 5s/step\n",
      "0.5924972 0.8604651 0.75510204\n",
      "\n",
      " Epoch 4/50\n",
      "6/6 [==============================] - 33s 5s/step\n",
      "0.39053372 0.63414633 0.8965517\n",
      "\n",
      " Epoch 5/50\n",
      "6/6 [==============================] - 33s 5s/step\n",
      "0.20364192 0.8888889 0.90909094\n",
      "\n",
      " Epoch 6/50\n",
      "6/6 [==============================] - 33s 5s/step\n",
      "0.018297497 0.9302326 0.9756098\n",
      "\n",
      " Epoch 7/50\n",
      "6/6 [==============================] - 33s 5s/step\n",
      "0.055337388 0.97619045 0.97619045\n",
      "\n",
      " Epoch 8/50\n",
      "6/6 [==============================] - 33s 5s/step\n",
      "0.046066113 0.95348835 1.0\n",
      "\n",
      " Epoch 9/50\n",
      "6/6 [==============================] - 33s 5s/step\n",
      "0.013392886 0.975 1.0\n",
      "\n",
      " Epoch 10/50\n",
      "6/6 [==============================] - 33s 5s/step\n",
      "0.0281744 0.9767442 1.0\n",
      "\n",
      " Epoch 11/50\n",
      "6/6 [==============================] - 32s 5s/step\n",
      "0.015787251 0.97619045 1.0\n",
      "\n",
      " Epoch 12/50\n",
      "6/6 [==============================] - 33s 5s/step\n",
      "0.0018788535 1.0 1.0\n",
      "\n",
      " Epoch 13/50\n",
      "6/6 [==============================] - 32s 5s/step\n",
      "0.008952161 1.0 1.0\n",
      "\n",
      " Epoch 14/50\n",
      "6/6 [==============================] - 32s 5s/step\n",
      "0.039768353 1.0 1.0\n",
      "\n",
      " Epoch 15/50\n",
      "6/6 [==============================] - 33s 5s/step\n",
      "0.046582684 1.0 1.0\n",
      "\n",
      " Epoch 16/50\n",
      "6/6 [==============================] - 32s 5s/step\n",
      "0.00058136747 1.0 1.0\n",
      "\n",
      " Epoch 17/50\n",
      "6/6 [==============================] - 32s 5s/step\n",
      "0.018907575 1.0 1.0\n",
      "\n",
      " Epoch 18/50\n",
      "6/6 [==============================] - 33s 5s/step\n",
      "0.00081816746 1.0 1.0\n",
      "\n",
      " Epoch 19/50\n",
      "6/6 [==============================] - 32s 5s/step\n",
      "2.3394907e-06 1.0 1.0\n",
      "\n",
      " Epoch 20/50\n",
      "6/6 [==============================] - 33s 5s/step\n",
      "0.00023794554 1.0 1.0\n",
      "\n",
      " Epoch 21/50\n",
      "6/6 [==============================] - 32s 5s/step\n",
      "0.0011865748 1.0 1.0\n",
      "\n",
      " Epoch 22/50\n",
      "6/6 [==============================] - 32s 5s/step\n",
      "6.079713e-06 1.0 1.0\n",
      "\n",
      " Epoch 23/50\n",
      "6/6 [==============================] - 33s 5s/step\n",
      "0.0054885875 1.0 1.0\n",
      "\n",
      " Epoch 24/50\n",
      "6/6 [==============================] - 33s 5s/step\n",
      "0.00037493475 1.0 1.0\n",
      "\n",
      " Epoch 25/50\n",
      "6/6 [==============================] - 33s 5s/step\n",
      "5.21541e-07 1.0 1.0\n",
      "\n",
      " Epoch 26/50\n",
      "6/6 [==============================] - 32s 5s/step\n",
      "2.8865175e-05 1.0 1.0\n",
      "\n",
      " Epoch 27/50\n",
      "6/6 [==============================] - 33s 5s/step\n",
      "0.0033357278 1.0 1.0\n",
      "\n",
      " Epoch 28/50\n",
      "6/6 [==============================] - 33s 5s/step\n",
      "3.470696e-05 1.0 1.0\n",
      "\n",
      " Epoch 29/50\n",
      "6/6 [==============================] - 33s 5s/step\n",
      "0.0015545194 1.0 1.0\n",
      "\n",
      " Epoch 30/50\n",
      "6/6 [==============================] - 33s 5s/step\n",
      "8.4936676e-07 1.0 1.0\n",
      "\n",
      " Epoch 31/50\n",
      "6/6 [==============================] - 32s 5s/step\n",
      "2.8030636e-05 1.0 1.0\n",
      "\n",
      " Epoch 32/50\n",
      "6/6 [==============================] - 32s 5s/step\n",
      "0.00010922385 1.0 1.0\n",
      "\n",
      " Epoch 33/50\n",
      "6/6 [==============================] - 33s 5s/step\n",
      "6.773495e-05 1.0 1.0\n",
      "\n",
      " Epoch 34/50\n",
      "6/6 [==============================] - 33s 5s/step\n",
      "0.0032101 1.0 1.0\n",
      "\n",
      " Epoch 35/50\n",
      "6/6 [==============================] - 33s 5s/step\n",
      "7.158052e-05 1.0 1.0\n",
      "\n",
      " Epoch 36/50\n",
      "6/6 [==============================] - 33s 5s/step\n",
      "2.9802322e-08 1.0 1.0\n",
      "\n",
      " Epoch 37/50\n",
      "6/6 [==============================] - 32s 5s/step\n",
      "1.6317077e-05 1.0 1.0\n",
      "\n",
      " Epoch 38/50\n",
      "6/6 [==============================] - 33s 5s/step\n",
      "6.986374e-05 1.0 1.0\n",
      "\n",
      " Epoch 39/50\n",
      "6/6 [==============================] - 33s 5s/step\n",
      "0.0 1.0 1.0\n",
      "\n",
      " Epoch 40/50\n",
      "6/6 [==============================] - 33s 5s/step\n",
      "3.963739e-06 1.0 1.0\n",
      "\n",
      " Epoch 41/50\n",
      "6/6 [==============================] - 32s 5s/step\n",
      "1.8582396e-05 1.0 1.0\n",
      "\n",
      " Epoch 42/50\n",
      "6/6 [==============================] - 32s 5s/step\n",
      "2.8611832e-05 1.0 1.0\n",
      "\n",
      " Epoch 43/50\n",
      "6/6 [==============================] - 33s 5s/step\n",
      "1.4335322e-05 1.0 1.0\n",
      "\n",
      " Epoch 44/50\n",
      "6/6 [==============================] - 33s 5s/step\n",
      "5.513433e-07 1.0 1.0\n",
      "\n",
      " Epoch 45/50\n",
      "6/6 [==============================] - 33s 5s/step\n",
      "0.00077666424 1.0 1.0\n",
      "\n",
      " Epoch 46/50\n",
      "6/6 [==============================] - 33s 5s/step\n",
      "7.182456e-06 1.0 1.0\n",
      "\n",
      " Epoch 47/50\n",
      "6/6 [==============================] - 33s 5s/step\n",
      "0.00012587446 1.0 1.0\n",
      "\n",
      " Epoch 48/50\n",
      "6/6 [==============================] - 32s 5s/step\n",
      "0.0013913553 1.0 1.0\n",
      "\n",
      " Epoch 49/50\n",
      "6/6 [==============================] - 33s 5s/step\n",
      "0.00067119725 1.0 1.0\n",
      "\n",
      " Epoch 50/50\n",
      "6/6 [==============================] - 33s 5s/step\n",
      "6.601265e-06 1.0 1.0\n"
     ]
    }
   ],
   "source": [
    "train(train_data, EPOCHS)"
   ]
  },
  {
   "cell_type": "markdown",
   "metadata": {
    "tags": []
   },
   "source": [
    "# 6. Evaluate Model"
   ]
  },
  {
   "cell_type": "markdown",
   "metadata": {},
   "source": [
    "Aqui nós vamos avaliar o desempenho do modelo utilizando os dados de teste."
   ]
  },
  {
   "cell_type": "markdown",
   "metadata": {},
   "source": [
    "## 6.1 Import Metrics"
   ]
  },
  {
   "cell_type": "markdown",
   "metadata": {},
   "source": [
    "As métricas utilizadas para avaliar o modelo são o Precision e o Recall"
   ]
  },
  {
   "cell_type": "code",
   "execution_count": 75,
   "metadata": {},
   "outputs": [],
   "source": [
    "# Import metric calculations\n",
    "from tensorflow.keras.metrics import Precision, Recall"
   ]
  },
  {
   "cell_type": "markdown",
   "metadata": {},
   "source": [
    "## 6.2 Make Predictions"
   ]
  },
  {
   "cell_type": "markdown",
   "metadata": {},
   "source": [
    "Vamos definir o batch de teste dos dados."
   ]
  },
  {
   "cell_type": "code",
   "execution_count": 76,
   "metadata": {},
   "outputs": [],
   "source": [
    "# Get a batch of test data\n",
    "test_input, test_val, y_true = test_data.as_numpy_iterator().next()"
   ]
  },
  {
   "cell_type": "markdown",
   "metadata": {},
   "source": [
    "Fornecemos os dados de teste para o modelo fazer a predição."
   ]
  },
  {
   "cell_type": "code",
   "execution_count": 77,
   "metadata": {
    "tags": []
   },
   "outputs": [],
   "source": [
    "y_hat = siamese_model.predict([test_input, test_val])"
   ]
  },
  {
   "cell_type": "markdown",
   "metadata": {},
   "source": [
    "Aqui foi definido um limiar de 0.5. Se o valor predito for maior que 0.5 iremos considerar como verdadeiro(1), caso contrário iremos considerar como falso(0)"
   ]
  },
  {
   "cell_type": "code",
   "execution_count": 78,
   "metadata": {
    "tags": []
   },
   "outputs": [
    {
     "data": {
      "text/plain": [
       "[1, 1, 0, 1, 1, 1, 1, 1, 1, 1, 1, 0, 1, 0, 1, 0]"
      ]
     },
     "execution_count": 78,
     "metadata": {},
     "output_type": "execute_result"
    }
   ],
   "source": [
    "# Post processing the results \n",
    "[1 if prediction > 0.5 else 0 for prediction in y_hat ]"
   ]
  },
  {
   "cell_type": "markdown",
   "metadata": {},
   "source": [
    "Aqui temos a visualização dos labels corretos dos dados. Podemos ver que é bem parecido com o que foi predito pelo modelo."
   ]
  },
  {
   "cell_type": "code",
   "execution_count": 79,
   "metadata": {
    "tags": []
   },
   "outputs": [
    {
     "data": {
      "text/plain": [
       "array([1., 1., 0., 1., 1., 1., 1., 1., 1., 1., 1., 0., 1., 0., 1., 0.],\n",
       "      dtype=float32)"
      ]
     },
     "execution_count": 79,
     "metadata": {},
     "output_type": "execute_result"
    }
   ],
   "source": [
    "y_true"
   ]
  },
  {
   "cell_type": "markdown",
   "metadata": {},
   "source": [
    "## 6.3 Calculate Metrics"
   ]
  },
  {
   "cell_type": "markdown",
   "metadata": {},
   "source": [
    "Agora vamos calcular as métricas. Aqui vamos calcular o Recall, no qual conseguimos obter o valor igual a 1."
   ]
  },
  {
   "cell_type": "code",
   "execution_count": 80,
   "metadata": {},
   "outputs": [
    {
     "data": {
      "text/plain": [
       "1.0"
      ]
     },
     "execution_count": 80,
     "metadata": {},
     "output_type": "execute_result"
    }
   ],
   "source": [
    "# Creating a metric object \n",
    "m = Recall()\n",
    "\n",
    "# Calculating the recall value \n",
    "m.update_state(y_true, y_hat)\n",
    "\n",
    "# Return Recall Result\n",
    "m.result().numpy()"
   ]
  },
  {
   "cell_type": "markdown",
   "metadata": {},
   "source": [
    "Agora vamos calcular o Precision, no qual conseguimos obter o valor igual a 1 também."
   ]
  },
  {
   "cell_type": "code",
   "execution_count": 81,
   "metadata": {},
   "outputs": [
    {
     "data": {
      "text/plain": [
       "1.0"
      ]
     },
     "execution_count": 81,
     "metadata": {},
     "output_type": "execute_result"
    }
   ],
   "source": [
    "# Creating a metric object \n",
    "m = Precision()\n",
    "\n",
    "# Calculating the recall value \n",
    "m.update_state(y_true, y_hat)\n",
    "\n",
    "# Return Recall Result\n",
    "m.result().numpy()"
   ]
  },
  {
   "cell_type": "markdown",
   "metadata": {},
   "source": [
    "Aqui percorremos todos os dados de teste e fazemos a predição. Depois calculamos o Precision e o Recall. Conseguimos obter o valor de 1 para ambos, o que significa um bom valor."
   ]
  },
  {
   "cell_type": "code",
   "execution_count": 82,
   "metadata": {},
   "outputs": [
    {
     "name": "stdout",
     "output_type": "stream",
     "text": [
      "1.0 1.0\n"
     ]
    }
   ],
   "source": [
    "r = Recall()\n",
    "p = Precision()\n",
    "\n",
    "for test_input, test_val, y_true in test_data.as_numpy_iterator():\n",
    "    yhat = siamese_model.predict([test_input, test_val])\n",
    "    r.update_state(y_true, yhat)\n",
    "    p.update_state(y_true,yhat) \n",
    "\n",
    "print(r.result().numpy(), p.result().numpy())"
   ]
  },
  {
   "cell_type": "markdown",
   "metadata": {},
   "source": [
    "## 6.4 Viz Results"
   ]
  },
  {
   "cell_type": "markdown",
   "metadata": {},
   "source": [
    "Aqui temos uma visualização de duas imagens do conjunto de teste. Um exemplo de uma imagem passada como entrada e outra imagem passada como validação para o modelo."
   ]
  },
  {
   "cell_type": "code",
   "execution_count": 95,
   "metadata": {},
   "outputs": [
    {
     "data": {
      "image/png": "[encoded data removed]",
      "text/plain": [
       "<Figure size 720x576 with 2 Axes>"
      ]
     },
     "metadata": {
      "needs_background": "light"
     },
     "output_type": "display_data"
    }
   ],
   "source": [
    "# Set plot size \n",
    "plt.figure(figsize=(10,8))\n",
    "\n",
    "# Set first subplot\n",
    "plt.subplot(1,2,1)\n",
    "plt.imshow(test_input[0])\n",
    "\n",
    "# Set second subplot\n",
    "plt.subplot(1,2,2)\n",
    "plt.imshow(test_val[0])\n",
    "\n",
    "# Renders cleanly\n",
    "plt.show()"
   ]
  },
  {
   "cell_type": "markdown",
   "metadata": {},
   "source": [
    "# 7. Save Model"
   ]
  },
  {
   "cell_type": "markdown",
   "metadata": {},
   "source": [
    "Vamos salvar o nosso modelo treinado anteriormente."
   ]
  },
  {
   "cell_type": "code",
   "execution_count": 96,
   "metadata": {},
   "outputs": [],
   "source": [
    "# Save weights\n",
    "siamese_model.save('siamesemodelv2.h5')"
   ]
  },
  {
   "cell_type": "code",
   "execution_count": 97,
   "metadata": {},
   "outputs": [
    {
     "data": {
      "text/plain": [
       "__main__.L1Dist"
      ]
     },
     "execution_count": 97,
     "metadata": {},
     "output_type": "execute_result"
    }
   ],
   "source": [
    "L1Dist"
   ]
  },
  {
   "cell_type": "markdown",
   "metadata": {},
   "source": [
    "Para carregar o modelo salvo basta utilizar o modelo `load_model` do keras. Vamos passar como parâmetro o nome do arquivo em que foi salvo o modelo treinado. Passamos também a camada `Distance Layer` que criamos e também a loss function BinaryCrossentropy que foi utilizada."
   ]
  },
  {
   "cell_type": "code",
   "execution_count": 98,
   "metadata": {},
   "outputs": [
    {
     "name": "stdout",
     "output_type": "stream",
     "text": [
      "WARNING:tensorflow:No training configuration found in the save file, so the model was *not* compiled. Compile it manually.\n"
     ]
    }
   ],
   "source": [
    "# Reload model \n",
    "siamese_model = tf.keras.models.load_model('siamesemodelv2.h5', \n",
    "                                   custom_objects={'L1Dist':L1Dist, 'BinaryCrossentropy':tf.losses.BinaryCrossentropy})"
   ]
  },
  {
   "cell_type": "markdown",
   "metadata": {},
   "source": [
    "Após carregar o modelo salvo, podemos utilizá-lo para fazer predições normalmente. Veja no código abaixo."
   ]
  },
  {
   "cell_type": "code",
   "execution_count": 99,
   "metadata": {},
   "outputs": [
    {
     "data": {
      "text/plain": [
       "array([[2.2058536e-08],\n",
       "       [1.3163623e-05],\n",
       "       [9.9999738e-01],\n",
       "       [4.0817073e-07]], dtype=float32)"
      ]
     },
     "execution_count": 99,
     "metadata": {},
     "output_type": "execute_result"
    }
   ],
   "source": [
    "# Make predictions with reloaded model\n",
    "siamese_model.predict([test_input, test_val])"
   ]
  },
  {
   "cell_type": "markdown",
   "metadata": {},
   "source": [
    "Aqui temos o resumo do modelo."
   ]
  },
  {
   "cell_type": "code",
   "execution_count": 100,
   "metadata": {},
   "outputs": [
    {
     "name": "stdout",
     "output_type": "stream",
     "text": [
      "Model: \"SiameseNetwork\"\n",
      "__________________________________________________________________________________________________\n",
      "Layer (type)                    Output Shape         Param #     Connected to                     \n",
      "==================================================================================================\n",
      "input_img (InputLayer)          [(None, 100, 100, 3) 0                                            \n",
      "__________________________________________________________________________________________________\n",
      "validation_img (InputLayer)     [(None, 100, 100, 3) 0                                            \n",
      "__________________________________________________________________________________________________\n",
      "embedding (Functional)          (None, 4096)         38960448    input_img[0][0]                  \n",
      "                                                                 validation_img[0][0]             \n",
      "__________________________________________________________________________________________________\n",
      "l1_dist_3 (L1Dist)              (None, 4096)         0           embedding[0][0]                  \n",
      "                                                                 embedding[1][0]                  \n",
      "__________________________________________________________________________________________________\n",
      "dense_3 (Dense)                 (None, 1)            4097        l1_dist_3[0][0]                  \n",
      "==================================================================================================\n",
      "Total params: 38,964,545\n",
      "Trainable params: 38,964,545\n",
      "Non-trainable params: 0\n",
      "__________________________________________________________________________________________________\n"
     ]
    }
   ],
   "source": [
    "# View model summary\n",
    "siamese_model.summary()"
   ]
  },
  {
   "cell_type": "markdown",
   "metadata": {},
   "source": [
    "# 8. Real Time Test"
   ]
  },
  {
   "cell_type": "markdown",
   "metadata": {},
   "source": [
    "Vamos fazer um teste em tempo real utilizando para isso a webcam."
   ]
  },
  {
   "cell_type": "markdown",
   "metadata": {},
   "source": [
    "## 8.1 Verification Function"
   ]
  },
  {
   "cell_type": "markdown",
   "metadata": {},
   "source": [
    "Precisamos criar um diretório chamado `application_data`. Dentro desse diretório teremos dois diretórios: `verification_images` e o `input_image`. No diretório `verification_images` iremos colocar as imagens que serão utilizadas para verificação. Nesse caso vamos utilizar as mesmas imagens que coletamos pela webcam no início desse experimento.\n",
    "\n",
    "No diretório `input_image` iremos colocar a imagem capturada pela webcam em tempo real no qual será utilizada como fonte de comparação para que o modelo avalie e nos diga se a imagem da pessoa na webcam é de alguém válido ou não."
   ]
  },
  {
   "cell_type": "code",
   "execution_count": 101,
   "metadata": {},
   "outputs": [],
   "source": [
    "# Make the directories\n",
    "if os.path.exists('application_data/verification_images'):\n",
    "    shutil.rmtree('application_data/verification_images')\n",
    "if os.path.exists('application_data/input_image'):\n",
    "    shutil.rmtree('application_data/input_image')\n",
    "\n",
    "os.makedirs('application_data/verification_images')\n",
    "os.makedirs('application_data/input_image')"
   ]
  },
  {
   "cell_type": "code",
   "execution_count": 103,
   "metadata": {},
   "outputs": [
    {
     "data": {
      "text/plain": [
       "['23bdde2e-70da-11ed-8403-298e54280f9a.jpg',\n",
       " '22fc7658-70da-11ed-8403-298e54280f9a.jpg',\n",
       " '22d32230-70da-11ed-8403-298e54280f9a.jpg',\n",
       " '22de4b74-70da-11ed-8403-298e54280f9a.jpg',\n",
       " '22dda818-70da-11ed-8403-298e54280f9a.jpg',\n",
       " '23a7862e-70da-11ed-8403-298e54280f9a.jpg',\n",
       " '23b402a0-70da-11ed-8403-298e54280f9a.jpg',\n",
       " '22d3efd0-70da-11ed-8403-298e54280f9a.jpg',\n",
       " '22de73e2-70da-11ed-8403-298e54280f9a.jpg',\n",
       " '23d2f336-70da-11ed-8403-298e54280f9a.jpg',\n",
       " '23b3b7fa-70da-11ed-8403-298e54280f9a.jpg',\n",
       " '24e544ae-70da-11ed-8403-298e54280f9a.jpg',\n",
       " '23fccde6-70da-11ed-8403-298e54280f9a.jpg',\n",
       " '22d2fc06-70da-11ed-8403-298e54280f9a.jpg',\n",
       " '22d2d028-70da-11ed-8403-298e54280f9a.jpg',\n",
       " '23d345c0-70da-11ed-8403-298e54280f9a.jpg',\n",
       " '23b30760-70da-11ed-8403-298e54280f9a.jpg',\n",
       " '22d3a32c-70da-11ed-8403-298e54280f9a.jpg',\n",
       " '23be061a-70da-11ed-8403-298e54280f9a.jpg',\n",
       " '23c9cad6-70da-11ed-8403-298e54280f9a.jpg',\n",
       " '23c8979c-70da-11ed-8403-298e54280f9a.jpg',\n",
       " '23a83ea2-70da-11ed-8403-298e54280f9a.jpg',\n",
       " '22fd11c6-70da-11ed-8403-298e54280f9a.jpg',\n",
       " '22dd27e4-70da-11ed-8403-298e54280f9a.jpg',\n",
       " '23a7bdb0-70da-11ed-8403-298e54280f9a.jpg',\n",
       " '22ddd090-70da-11ed-8403-298e54280f9a.jpg',\n",
       " '22fbf430-70da-11ed-8403-298e54280f9a.jpg',\n",
       " '23b36840-70da-11ed-8403-298e54280f9a.jpg',\n",
       " '22e7b83a-70da-11ed-8403-298e54280f9a.jpg',\n",
       " '22f2cc3e-70da-11ed-8403-298e54280f9a.jpg',\n",
       " '22d351f6-70da-11ed-8403-298e54280f9a.jpg',\n",
       " '22ddf908-70da-11ed-8403-298e54280f9a.jpg',\n",
       " '23e857d0-70da-11ed-8403-298e54280f9a.jpg',\n",
       " '23fc1c2a-70da-11ed-8403-298e54280f9a.jpg',\n",
       " '24c6e496-70da-11ed-8403-298e54280f9a.jpg',\n",
       " '22dd8054-70da-11ed-8403-298e54280f9a.jpg',\n",
       " '23bdb084-70da-11ed-8403-298e54280f9a.jpg',\n",
       " '23dcc0d2-70da-11ed-8403-298e54280f9a.jpg',\n",
       " '22d41636-70da-11ed-8403-298e54280f9a.jpg',\n",
       " '23ddaf10-70da-11ed-8403-298e54280f9a.jpg',\n",
       " '22d37c08-70da-11ed-8403-298e54280f9a.jpg',\n",
       " '22dd55b6-70da-11ed-8403-298e54280f9a.jpg',\n",
       " '23a8c11a-70da-11ed-8403-298e54280f9a.jpg',\n",
       " '22f1ade0-70da-11ed-8403-298e54280f9a.jpg',\n",
       " '22de225c-70da-11ed-8403-298e54280f9a.jpg',\n",
       " '24d1564c-70da-11ed-8403-298e54280f9a.jpg',\n",
       " '23f2f06e-70da-11ed-8403-298e54280f9a.jpg',\n",
       " '22d3c956-70da-11ed-8403-298e54280f9a.jpg',\n",
       " '23dd897c-70da-11ed-8403-298e54280f9a.jpg',\n",
       " '24d0bcc8-70da-11ed-8403-298e54280f9a.jpg']"
      ]
     },
     "execution_count": 103,
     "metadata": {},
     "output_type": "execute_result"
    }
   ],
   "source": [
    "os.listdir(os.path.join('application_data', 'verification_images'))"
   ]
  },
  {
   "cell_type": "code",
   "execution_count": 104,
   "metadata": {},
   "outputs": [
    {
     "data": {
      "text/plain": [
       "'application_data/input_image/input_image.jpg'"
      ]
     },
     "execution_count": 104,
     "metadata": {},
     "output_type": "execute_result"
    }
   ],
   "source": [
    "os.path.join('application_data', 'input_image', 'input_image.jpg')"
   ]
  },
  {
   "cell_type": "code",
   "execution_count": 105,
   "metadata": {},
   "outputs": [
    {
     "name": "stdout",
     "output_type": "stream",
     "text": [
      "application_data/verification_images/23bdde2e-70da-11ed-8403-298e54280f9a.jpg\n",
      "application_data/verification_images/22fc7658-70da-11ed-8403-298e54280f9a.jpg\n",
      "application_data/verification_images/22d32230-70da-11ed-8403-298e54280f9a.jpg\n",
      "application_data/verification_images/22de4b74-70da-11ed-8403-298e54280f9a.jpg\n",
      "application_data/verification_images/22dda818-70da-11ed-8403-298e54280f9a.jpg\n",
      "application_data/verification_images/23a7862e-70da-11ed-8403-298e54280f9a.jpg\n",
      "application_data/verification_images/23b402a0-70da-11ed-8403-298e54280f9a.jpg\n",
      "application_data/verification_images/22d3efd0-70da-11ed-8403-298e54280f9a.jpg\n",
      "application_data/verification_images/22de73e2-70da-11ed-8403-298e54280f9a.jpg\n",
      "application_data/verification_images/23d2f336-70da-11ed-8403-298e54280f9a.jpg\n",
      "application_data/verification_images/23b3b7fa-70da-11ed-8403-298e54280f9a.jpg\n",
      "application_data/verification_images/24e544ae-70da-11ed-8403-298e54280f9a.jpg\n",
      "application_data/verification_images/23fccde6-70da-11ed-8403-298e54280f9a.jpg\n",
      "application_data/verification_images/22d2fc06-70da-11ed-8403-298e54280f9a.jpg\n",
      "application_data/verification_images/22d2d028-70da-11ed-8403-298e54280f9a.jpg\n",
      "application_data/verification_images/23d345c0-70da-11ed-8403-298e54280f9a.jpg\n",
      "application_data/verification_images/23b30760-70da-11ed-8403-298e54280f9a.jpg\n",
      "application_data/verification_images/22d3a32c-70da-11ed-8403-298e54280f9a.jpg\n",
      "application_data/verification_images/23be061a-70da-11ed-8403-298e54280f9a.jpg\n",
      "application_data/verification_images/23c9cad6-70da-11ed-8403-298e54280f9a.jpg\n",
      "application_data/verification_images/23c8979c-70da-11ed-8403-298e54280f9a.jpg\n",
      "application_data/verification_images/23a83ea2-70da-11ed-8403-298e54280f9a.jpg\n",
      "application_data/verification_images/22fd11c6-70da-11ed-8403-298e54280f9a.jpg\n",
      "application_data/verification_images/22dd27e4-70da-11ed-8403-298e54280f9a.jpg\n",
      "application_data/verification_images/23a7bdb0-70da-11ed-8403-298e54280f9a.jpg\n",
      "application_data/verification_images/22ddd090-70da-11ed-8403-298e54280f9a.jpg\n",
      "application_data/verification_images/22fbf430-70da-11ed-8403-298e54280f9a.jpg\n",
      "application_data/verification_images/23b36840-70da-11ed-8403-298e54280f9a.jpg\n",
      "application_data/verification_images/22e7b83a-70da-11ed-8403-298e54280f9a.jpg\n",
      "application_data/verification_images/22f2cc3e-70da-11ed-8403-298e54280f9a.jpg\n",
      "application_data/verification_images/22d351f6-70da-11ed-8403-298e54280f9a.jpg\n",
      "application_data/verification_images/22ddf908-70da-11ed-8403-298e54280f9a.jpg\n",
      "application_data/verification_images/23e857d0-70da-11ed-8403-298e54280f9a.jpg\n",
      "application_data/verification_images/23fc1c2a-70da-11ed-8403-298e54280f9a.jpg\n",
      "application_data/verification_images/24c6e496-70da-11ed-8403-298e54280f9a.jpg\n",
      "application_data/verification_images/22dd8054-70da-11ed-8403-298e54280f9a.jpg\n",
      "application_data/verification_images/23bdb084-70da-11ed-8403-298e54280f9a.jpg\n",
      "application_data/verification_images/23dcc0d2-70da-11ed-8403-298e54280f9a.jpg\n",
      "application_data/verification_images/22d41636-70da-11ed-8403-298e54280f9a.jpg\n",
      "application_data/verification_images/23ddaf10-70da-11ed-8403-298e54280f9a.jpg\n",
      "application_data/verification_images/22d37c08-70da-11ed-8403-298e54280f9a.jpg\n",
      "application_data/verification_images/22dd55b6-70da-11ed-8403-298e54280f9a.jpg\n",
      "application_data/verification_images/23a8c11a-70da-11ed-8403-298e54280f9a.jpg\n",
      "application_data/verification_images/22f1ade0-70da-11ed-8403-298e54280f9a.jpg\n",
      "application_data/verification_images/22de225c-70da-11ed-8403-298e54280f9a.jpg\n",
      "application_data/verification_images/24d1564c-70da-11ed-8403-298e54280f9a.jpg\n",
      "application_data/verification_images/23f2f06e-70da-11ed-8403-298e54280f9a.jpg\n",
      "application_data/verification_images/22d3c956-70da-11ed-8403-298e54280f9a.jpg\n",
      "application_data/verification_images/23dd897c-70da-11ed-8403-298e54280f9a.jpg\n",
      "application_data/verification_images/24d0bcc8-70da-11ed-8403-298e54280f9a.jpg\n"
     ]
    }
   ],
   "source": [
    "for image in os.listdir(os.path.join('application_data', 'verification_images')):\n",
    "    validation_img = os.path.join('application_data', 'verification_images', image)\n",
    "    print(validation_img)"
   ]
  },
  {
   "cell_type": "markdown",
   "metadata": {},
   "source": [
    "O método abaixo será utilizado para fazer a verificação da imagem da webcam e as imagens que temos para validação.\n",
    "\n",
    "O modelo irá receber ambas as imagens e irá fazer uma predição em relação as imagens. Iremos utilizar o resultado da predição para indicar se a pessoa na webcam é de alguém válido ou não.\n",
    "\n",
    "A verificação será dado por: $(\\text{proporção das predições positivas}\\div \\text{total de imagens positivas}) $\n",
    "\n",
    "O resultado dessa verificação será comparada com um limiar(`verification_threshold`). Se o valor for maior que o limiar dizemos que a imagem na câmera é de alguém válido, caso contrário dizemos que não é de alguém válido."
   ]
  },
  {
   "cell_type": "code",
   "execution_count": 106,
   "metadata": {},
   "outputs": [],
   "source": [
    "def verify(model, detection_threshold, verification_threshold):\n",
    "    # Build results array\n",
    "    results = []\n",
    "    for image in os.listdir(os.path.join('application_data', 'verification_images')):\n",
    "        input_img = preprocess(os.path.join('application_data', 'input_image', 'input_image.jpg'))\n",
    "        validation_img = preprocess(os.path.join('application_data', 'verification_images', image))\n",
    "        \n",
    "        # Make Predictions \n",
    "        result = model.predict(list(np.expand_dims([input_img, validation_img], axis=1)))\n",
    "        results.append(result)\n",
    "    \n",
    "    # Detection Threshold: Metric above which a prediciton is considered positive \n",
    "    detection = np.sum(np.array(results) > detection_threshold)\n",
    "    \n",
    "    # Verification Threshold: Proportion of positive predictions / total positive samples \n",
    "    verification = detection / len(os.listdir(os.path.join('application_data', 'verification_images'))) \n",
    "    verified = verification > verification_threshold\n",
    "    \n",
    "    return results, verified"
   ]
  },
  {
   "cell_type": "markdown",
   "metadata": {},
   "source": [
    "## 8.2 OpenCV Real Time Verification"
   ]
  },
  {
   "cell_type": "markdown",
   "metadata": {},
   "source": [
    "Vamos utilizar o OpenCV para capturar a câmera. Ao pressionar a tecla `v` será capturada a imagem para verificação. Essa imagem será utilizada para verificação no método que criamos anteriormente. Aqui estamos utilizando como limiar o valor de 0.5.\n",
    "\n",
    "Se a pessoa que está sendo exibida na câmera for de alguém válido, será exibido o valor `True` no terminal, caso não seja de alguém válido será exibido o valor `False` no terminal.\n",
    "\n",
    "\n",
    "Ao pressionar a tecla `q` o código será encerrado, bem como a captura da webcam pelo OpenCV."
   ]
  },
  {
   "cell_type": "code",
   "execution_count": 115,
   "metadata": {},
   "outputs": [
    {
     "name": "stdout",
     "output_type": "stream",
     "text": [
      "True\n"
     ]
    }
   ],
   "source": [
    "cap = cv2.VideoCapture(0)\n",
    "while cap.isOpened():\n",
    "    ret, frame = cap.read()\n",
    "    frame = frame[120:120+250,200:200+250, :]\n",
    "    \n",
    "    cv2.imshow('Verification', frame)\n",
    "     \n",
    "    # Ao pressionar a tecla 'v', faz a captura da imagem e salva no diretório 'input_image'\n",
    "    if cv2.waitKey(33) == ord('v'):\n",
    "        # Save input image to application_data/input_image folder \n",
    "#         hsv = cv2.cvtColor(frame, cv2.COLOR_BGR2HSV)\n",
    "#         h, s, v = cv2.split(hsv)\n",
    "\n",
    "#         lim = 255 - 10\n",
    "#         v[v > lim] = 255\n",
    "#         v[v <= lim] -= 10\n",
    "        \n",
    "#         final_hsv = cv2.merge((h, s, v))\n",
    "#         img = cv2.cvtColor(final_hsv, cv2.COLOR_HSV2BGR)\n",
    "\n",
    "        cv2.imwrite(os.path.join('application_data', 'input_image', 'input_image.jpg'), frame)\n",
    "        # Fazemos a verificação da imagem. Se for válido imprime True, caso contrário imprime 'Else'\n",
    "        results, verified = verify(siamese_model, 0.5, 0.5)\n",
    "        print(verified)\n",
    "        \n",
    "    # Fecha a câmera\n",
    "    if cv2.waitKey(33) == ord('q'):\n",
    "        break\n",
    "cap.release()\n",
    "cv2.destroyAllWindows()"
   ]
  },
  {
   "cell_type": "code",
   "execution_count": 110,
   "metadata": {},
   "outputs": [
    {
     "data": {
      "text/plain": [
       "35"
      ]
     },
     "execution_count": 110,
     "metadata": {},
     "output_type": "execute_result"
    }
   ],
   "source": [
    "np.sum(np.squeeze(results) > 0.9)"
   ]
  },
  {
   "cell_type": "code",
   "execution_count": 111,
   "metadata": {},
   "outputs": [
    {
     "data": {
      "text/plain": [
       "[array([[0.9619598]], dtype=float32),\n",
       " array([[0.61126447]], dtype=float32),\n",
       " array([[0.76223254]], dtype=float32),\n",
       " array([[0.9999461]], dtype=float32),\n",
       " array([[0.8709861]], dtype=float32),\n",
       " array([[0.7168493]], dtype=float32),\n",
       " array([[0.9996805]], dtype=float32),\n",
       " array([[0.73804176]], dtype=float32),\n",
       " array([[0.99994993]], dtype=float32),\n",
       " array([[0.919181]], dtype=float32),\n",
       " array([[0.99993294]], dtype=float32),\n",
       " array([[0.87705904]], dtype=float32),\n",
       " array([[0.995075]], dtype=float32),\n",
       " array([[0.7956004]], dtype=float32),\n",
       " array([[0.9987937]], dtype=float32),\n",
       " array([[0.9985559]], dtype=float32),\n",
       " array([[0.999905]], dtype=float32),\n",
       " array([[0.99856436]], dtype=float32),\n",
       " array([[0.5511309]], dtype=float32),\n",
       " array([[0.9999047]], dtype=float32),\n",
       " array([[0.8903098]], dtype=float32),\n",
       " array([[0.995433]], dtype=float32),\n",
       " array([[0.799749]], dtype=float32),\n",
       " array([[0.69921786]], dtype=float32),\n",
       " array([[0.99457157]], dtype=float32),\n",
       " array([[0.9999368]], dtype=float32),\n",
       " array([[0.97591245]], dtype=float32),\n",
       " array([[0.8562258]], dtype=float32),\n",
       " array([[0.7220593]], dtype=float32),\n",
       " array([[0.99341846]], dtype=float32),\n",
       " array([[0.9994351]], dtype=float32),\n",
       " array([[0.9171399]], dtype=float32),\n",
       " array([[0.84590626]], dtype=float32),\n",
       " array([[0.9986953]], dtype=float32),\n",
       " array([[0.9935059]], dtype=float32),\n",
       " array([[0.92167455]], dtype=float32),\n",
       " array([[0.9987082]], dtype=float32),\n",
       " array([[0.9841992]], dtype=float32),\n",
       " array([[0.8713753]], dtype=float32),\n",
       " array([[0.9940756]], dtype=float32),\n",
       " array([[0.8744184]], dtype=float32),\n",
       " array([[0.8952507]], dtype=float32),\n",
       " array([[0.999941]], dtype=float32),\n",
       " array([[0.9628085]], dtype=float32),\n",
       " array([[0.991181]], dtype=float32),\n",
       " array([[0.99854887]], dtype=float32),\n",
       " array([[0.99995077]], dtype=float32),\n",
       " array([[0.9491565]], dtype=float32),\n",
       " array([[0.99627554]], dtype=float32),\n",
       " array([[0.9987568]], dtype=float32),\n",
       " array([[0.99994683]], dtype=float32),\n",
       " array([[0.99990964]], dtype=float32)]"
      ]
     },
     "execution_count": 111,
     "metadata": {},
     "output_type": "execute_result"
    }
   ],
   "source": [
    "results"
   ]
  },
  {
   "cell_type": "code",
   "execution_count": null,
   "metadata": {},
   "outputs": [],
   "source": []
  }
 ],
 "metadata": {
  "kernelspec": {
   "display_name": "Python 3",
   "language": "python",
   "name": "python3"
  },
  "language_info": {
   "codemirror_mode": {
    "name": "ipython",
    "version": 3
   },
   "file_extension": ".py",
   "mimetype": "text/x-python",
   "name": "python",
   "nbconvert_exporter": "python",
   "pygments_lexer": "ipython3",
   "version": "3.8.8"
  }
 },
 "nbformat": 4,
 "nbformat_minor": 4
}
